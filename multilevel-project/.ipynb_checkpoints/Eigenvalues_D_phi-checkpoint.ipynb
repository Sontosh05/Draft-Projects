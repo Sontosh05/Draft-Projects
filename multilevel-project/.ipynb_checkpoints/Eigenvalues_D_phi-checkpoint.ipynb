{
 "cells": [
  {
   "cell_type": "code",
   "execution_count": 23,
   "id": "8316dcf2-6985-401a-9f34-829c1ed2a9b6",
   "metadata": {},
   "outputs": [
    {
     "data": {
      "text/plain": [
       "0.9909919952638311"
      ]
     },
     "execution_count": 23,
     "metadata": {},
     "output_type": "execute_result"
    }
   ],
   "source": [
    "using LinearAlgebra\n",
    "\n",
    "# Function to create the finite difference matrix D\n",
    "function create_D(N, dx)\n",
    "    beta = 1 / dx^2\n",
    "    D = Tridiagonal(fill(beta, N-1), fill(-2 * beta, N), fill(beta, N-1))\n",
    "    return D\n",
    "end\n",
    "\n",
    "# Function to create the operator φ_Δ = I - 2 Δt D\n",
    "function create_phi_D(N, dx, dt)\n",
    "    D = create_D(N, dx)\n",
    "    I_matrix = Matrix{Float64}(I, N, N)  # Create the identity matrix I (size NxN)\n",
    "    phi_D = I_matrix - 2 * dt * D  # Compute the operator φ_Δ = I - 2 Δt D\n",
    "    return phi_D\n",
    "end\n",
    "\n",
    "# Parameters\n",
    "N = 200  # Number of grid points\n",
    "X=60\n",
    "dx = 1.0 / (X + 1)\n",
    "dt = 1/N  # Time step size\n",
    "\n",
    "# Create the operator phi_D\n",
    "phi_D = create_phi_D(N, dx, dt)\n",
    "\n",
    "# Find the eigenvalues of phi_D\n",
    "lambda_phi = eigen(inv(phi_D)).values\n",
    "maximum(lambda_phi)"
   ]
  },
  {
   "cell_type": "code",
   "execution_count": 25,
   "id": "466abc79-a362-463e-a8e0-6346ebf0247a",
   "metadata": {},
   "outputs": [
    {
     "data": {
      "text/plain": [
       "-0.9089886476600444"
      ]
     },
     "execution_count": 25,
     "metadata": {},
     "output_type": "execute_result"
    }
   ],
   "source": [
    "lambda_D=eigen(D).values\n",
    "maximum(lambda_D)"
   ]
  },
  {
   "cell_type": "code",
   "execution_count": null,
   "id": "8d56860e-9e4a-42f2-b1ff-d8aea0be31bc",
   "metadata": {},
   "outputs": [],
   "source": []
  }
 ],
 "metadata": {
  "kernelspec": {
   "display_name": "Julia 1.10.4",
   "language": "julia",
   "name": "julia-1.10"
  },
  "language_info": {
   "file_extension": ".jl",
   "mimetype": "application/julia",
   "name": "julia",
   "version": "1.10.4"
  }
 },
 "nbformat": 4,
 "nbformat_minor": 5
}
