{
 "cells": [
  {
   "cell_type": "code",
   "execution_count": 1,
   "id": "650ff5f3-da13-4cb7-be1f-fbef58ebeb38",
   "metadata": {},
   "outputs": [
    {
     "name": "stderr",
     "output_type": "stream",
     "text": [
      "WARNING: using Polynomials.vander in module Main conflicts with an existing identifier.\n"
     ]
    },
    {
     "data": {
      "text/plain": [
       "LReg (generic function with 1 method)"
      ]
     },
     "execution_count": 1,
     "metadata": {},
     "output_type": "execute_result"
    }
   ],
   "source": [
    "using Plots\n",
    "include(\"polyfit_function.jl\")\n",
    "include(\"Lagrange_interpolation.jl\")\n",
    "include(\"LReg.jl\")"
   ]
  },
  {
   "cell_type": "code",
   "execution_count": 33,
   "id": "7dc1b609-1844-4f2b-82eb-8adff99fb158",
   "metadata": {},
   "outputs": [
    {
     "data": {
      "text/plain": [
       "Ref (generic function with 1 method)"
      ]
     },
     "execution_count": 33,
     "metadata": {},
     "output_type": "execute_result"
    }
   ],
   "source": [
    "function Ref(f, a, b, u0, N)\n",
    "    dt=(b-a)/N\n",
    "    t=(0:N)*dt\n",
    "    m=2\n",
    "    DT=m*dt\n",
    "    U=zeros(1, N+1, 2)\n",
    "    U[1, 1, 1]=u0\n",
    "    U[1, 1, 2]=u0\n",
    "    \n",
    "    for i=1:m:N\n",
    "\n",
    "        U[1, i, 1]=U[1, i, 2]\n",
    "        for j=i:i+1\n",
    "            U[1, j+1, 1]= U[1, j, 1]+dt*f(t[j], U[1, j, 1])\n",
    "        end\n",
    "           \n",
    "        U[1, i+2, 2]= U[1, i, 2]+ DT*(f(t[i], U[1, i, 2])-f(t[i], U[1, i, 1])) + LReg(t[i:i+2], f(t[i:i+2], U[1, i:i+2, 1]), t[i], t[i+2])\n",
    "    end\n",
    "        \n",
    "    return  U, t\n",
    "end"
   ]
  },
  {
   "cell_type": "code",
   "execution_count": null,
   "id": "fa02279d-8c58-4f4b-a1f6-0f89cb47fa0f",
   "metadata": {},
   "outputs": [],
   "source": [
    "# Convergence test\n",
    "using LinearAlgebra\n",
    "\n",
    "u0 = 1.0\n",
    "lambda= 1\n",
    "a=0\n",
    "b=1.0\n",
    "K = 5\n",
    "err = zeros(K, 1)\n",
    "ns=zeros(K, 1)\n",
    "m=2\n",
    "f(t, y) = lambda * y\n",
    "\n",
    "for k in 1:K\n",
    "    \n",
    "    N = 10*k\n",
    "    \n",
    "    ns[k]=N\n",
    "    U, t= Ref(f, a, b, u0, N)\n",
    "    exact= u0*exp.(lambda .* t)\n",
    "    err[k] = norm(exact[1:m:end] .- U[1, 1:m:end, 2], Inf)\n",
    "end\n",
    "\n",
    "# Compute order of convergence and error plot\n",
    "pdeg = polyfit(log10.(ns[:]), log10.(err[:]),1)\n",
    "print(\"convergence order = \",abs(pdeg[2]),\"\\n\") \n",
    "plot(ns, err[:], xaxis=:log, yaxis=:log, label=\"Reference Solution\")\n",
    "display(plot!(legend=:topright))"
   ]
  },
  {
   "cell_type": "code",
   "execution_count": null,
   "id": "ad79eef8-3ac8-45a4-b76c-f97eb1b0d39f",
   "metadata": {},
   "outputs": [],
   "source": [
    "function grid2c(f, a, b, u0, N, K)\n",
    "    dt=(b-a)/N\n",
    "    t=(0:N)*dt\n",
    "    m=2\n",
    "    J= N÷m\n",
    "    DT=m*dt\n",
    "    Tval=(0:J)*DT\n",
    "    u=zeros(1, N+1, K+1)\n",
    "    u[1, 1, 1]=u0\n",
    "    ps=3:m:N\n",
    "    u[1, ps, 1] = rand(length(ps))\n",
    "\n",
    "\n",
    "    # 2 level iteration\n",
    "    fk=zeros(m+1)\n",
    "    for k=1:K\n",
    "        u[1, 1, k+1]=u0\n",
    "        for i=1:m:N\n",
    "            \n",
    "            # Sequential solution on each time slice\n",
    "            fk[1]=u[1, i, k]\n",
    "            for j=1:m\n",
    "                fk[j+1]=fk[j]+dt*f(t[i+j-1], fk[j])\n",
    "            end\n",
    "            \n",
    "            # Updated solution on the coarse nodes\n",
    "            u[1, i+2, k+1]= u[1, i, k+1]+ DT*(f(t[i], u[1, i, k+1])-f(t[i], fk[1])) + LReg(t[i:i+2], f(t[i:i+2], fk[1:3]), t[i], t[i+2])\n",
    "        end\n",
    "    end\n",
    "        \n",
    "    return u, t\n",
    "end"
   ]
  },
  {
   "cell_type": "code",
   "execution_count": null,
   "id": "de6da16e-2267-4d7a-9ab8-e15a0196a473",
   "metadata": {},
   "outputs": [],
   "source": [
    "# Convergence test\n",
    "using LinearAlgebra\n",
    "\n",
    "u0 = 1.0\n",
    "lambda= 1\n",
    "a=0\n",
    "b=1.0\n",
    "K = 6\n",
    "err = zeros(K, 1)\n",
    "ns=zeros(K, 1)\n",
    "m=2\n",
    "f(t, y) = lambda * y\n",
    "\n",
    "for k in 1:K\n",
    "    \n",
    "    N = 10*k\n",
    "    \n",
    "    ns[k]=N\n",
    "    u, t= grid2c(f, a, b, u0, N, K)\n",
    "    exact= u0*exp.(lambda .* t)\n",
    "    err[k] = norm(exact[1:m:end] .- u[1, 1:m:end, itr], Inf)\n",
    "end\n",
    "\n",
    "# Compute order of convergence and error plot\n",
    "pdeg = polyfit(log10.(ns[:]), log10.(err[:]),1)\n",
    "print(\"convergence order = \",abs(pdeg[2]),\"\\n\") \n",
    "plot(ns, err[:], xaxis=:log, yaxis=:log, label=\"2 Level DC\")\n",
    "display(plot!(legend=:topright))"
   ]
  },
  {
   "cell_type": "code",
   "execution_count": null,
   "id": "43d868bb-a896-490e-b578-6e7abfd00ad2",
   "metadata": {},
   "outputs": [],
   "source": [
    "using LinearAlgebra, Plots\n",
    "\n",
    "u0 = 1.0\n",
    "a = 0\n",
    "b = 1.0\n",
    "f(t, u) = u\n",
    "N = 20\n",
    "K = 7 # Number of Iterations\n",
    "m = 2\n",
    "err=zeros(K+1)\n",
    "u, t= grid2c(f, a, b, u0, N, K) # Approximate Solution\n",
    "U, t = Ref(f, a, b, u0, N) # Reference Solution\n",
    "for k=1:K+1\n",
    "    err[k]= norm(U[1, 1:m:end, 2] .- u[1, 1:m:end, k], Inf)\n",
    "end\n",
    "plot(0:K, err, yaxis=:log, xlabel=\"Number of Iterations\", ylabel=\"Error\")"
   ]
  },
  {
   "cell_type": "code",
   "execution_count": null,
   "id": "4dbf4320-37c4-4765-a630-e104a27fb3b1",
   "metadata": {},
   "outputs": [],
   "source": [
    "# Finite Step Convergenec\n",
    "\n",
    "using LinearAlgebra, Plots\n",
    "\n",
    "u0 = 1.0\n",
    "a = 0\n",
    "b = 1.0\n",
    "f(t, u) = -u .+ sin.(10*t)\n",
    "N = 20\n",
    "K = 5 # Number of Iterations\n",
    "m = 2\n",
    "\n",
    "u, t = grid2c(f, a, b, u0, N, K) # Approximate Solution\n",
    "U, t = Ref(f, a, b, u0, N) # Reference Solution\n",
    "\n",
    "tval = t[1:m:end] # Coarse time points\n",
    "err = norm.(U[1, 1:m:end, 2] .- u[1, 1:m:end, K], Inf) .+ 10^(-15)\n",
    "\n",
    "plot(tval, err, xlabel=\" Time\", yaxis=:log, ylabel=\"Error\", title=\"Error vs Time\", xticks=(tval, string.(tval)))"
   ]
  },
  {
   "cell_type": "code",
   "execution_count": null,
   "id": "b9a076d7-92a3-4cdc-95ca-fd9978ef4588",
   "metadata": {},
   "outputs": [],
   "source": [
    "using LinearAlgebra, Plots\n",
    "\n",
    "u0 = 1.0\n",
    "a = 0\n",
    "b = 1/2\n",
    "f(t, u) =  u .^2\n",
    "\n",
    "K = 5  # Number of Iterations\n",
    "m = 2\n",
    "Nk= 10\n",
    "ns=zeros(Nk)\n",
    "error=zeros(Nk, K)\n",
    "for k=1:K\n",
    "    for n=1:Nk\n",
    "        N=10*n\n",
    "        ns[n]=N\n",
    "        u, t = grid2c(f, a, b, u0, N, k)\n",
    "        U, t = Ref(f, a, b, u0, N)\n",
    "        error[n, k]= norm(U[1, 1:m:end, 2] .- u[1, 1:m:end, k])\n",
    "    end\n",
    "end\n",
    "\n",
    "# Compute order of convergence and error plot\n",
    "pdeg = polyfit(log10.(ns[:]), log10.(error[:, 1]),1)\n",
    "print(\"Order p= \", abs(pdeg[2]),\"\\n\") \n",
    "plot(ns, error[:, 1],xaxis=:log, yaxis=:log, label=\"Predictor\")\n",
    "for j in 2:K\n",
    "    plot!(ns, error[:, j], xaxis=:log, yaxis=:log, label=\"$(j-1) Correction\")\n",
    "    pdeg = polyfit(log10.(ns[:]), log10.(error[:, j]),1)\n",
    "    print(\"Order p= \", abs(pdeg[2]),\"\\n\")\n",
    "end\n",
    "display(plot!(legend=:bottomleft))"
   ]
  },
  {
   "cell_type": "code",
   "execution_count": null,
   "id": "225e28cf-7b49-4cd5-88cc-463bbcb3f5d8",
   "metadata": {},
   "outputs": [],
   "source": [
    "function twoleDC(f, a, b, N, u0, G, K)\n",
    "\n",
    "    m=2\n",
    "    dt=(b-a)/N\n",
    "    tval=(0:N)*dt\n",
    "    DT=m*dt\n",
    "    u=zeros(1, N+1, K+1)\n",
    "    u[1, 1, 1]=u0\n",
    "    ps=3:m:N\n",
    "    u[1, ps, 1] = ones(length(ps)) # initializing random values\n",
    "    for k=1:K\n",
    "        u[1, 1, k+1]=u0\n",
    "        for i=1:m:N\n",
    "            Gk=G(tval[i], tval[i+2], u[1, i, k], dt, m) # Sequential solution on time slice (m=2)\n",
    "            # Updated solution on the coarse nodes\n",
    "            u[1, i+2, k+1]= u[1, i, k+1]+ DT*(f(tval[i], u[1, i, k+1])-f(tval[i], Gk[1])) + LReg(tval[i:i+2], f(tval[i:i+2], Gk[1:3]), tval[i], tval[i+2])\n",
    "        end\n",
    "    end\n",
    "    return u, tval\n",
    "end"
   ]
  },
  {
   "cell_type": "code",
   "execution_count": 51,
   "id": "c37fe809-123c-48f3-bdfe-481754000c0c",
   "metadata": {},
   "outputs": [
    {
     "data": {
      "text/plain": [
       "Gs (generic function with 1 method)"
      ]
     },
     "execution_count": 51,
     "metadata": {},
     "output_type": "execute_result"
    }
   ],
   "source": [
    "function Gs(a, b, u0, dt, m)\n",
    "    uk=zeros(m+1)\n",
    "    uk[1]=u0\n",
    "    tv=a:dt:b\n",
    "    for i=1:m\n",
    "        uk[i+1]=uk[i]+dt*f(tv[i], uk[i])\n",
    "    end\n",
    "    return uk[end]\n",
    "end"
   ]
  },
  {
   "cell_type": "code",
   "execution_count": null,
   "id": "d24d7d65-65b3-4fd2-ada9-dea48ef5bcac",
   "metadata": {},
   "outputs": [],
   "source": [
    "using LinearAlgebra, Plots\n",
    "\n",
    "u0 = 1.0\n",
    "a = 0\n",
    "b = 1.0\n",
    "f(t, u) = u\n",
    "N = 6\n",
    "K = 3 # Number of Iterations\n",
    "m = 2\n",
    "err=zeros(K+1)\n",
    "u, tval= twoleDC(f, a, b, N, u0, Gs, K) # Approximate Solution\n",
    "U, t = Ref(f, a, b, u0, N) # Reference Solution\n",
    "for k=1:K+1\n",
    "    err[k]= norm(U[1, 1:m:end, 2] .- u[1, 1:m:end, k], Inf) .+10^(-16)\n",
    "end\n",
    "plot(0:K, err, yaxis=:log, xlabel=\"Number of Iterations\", ylabel=\"Error\")"
   ]
  },
  {
   "cell_type": "code",
   "execution_count": null,
   "id": "efd121ef-b846-44a3-a47a-d987cbfa981c",
   "metadata": {},
   "outputs": [],
   "source": [
    "u0=1.0\n",
    "K=3\n",
    "N=16\n",
    "a=0\n",
    "b=1.0\n",
    "dt=0.5\n",
    "m=2\n",
    "f(t, u)=u\n",
    "up=Gs(a, b, u0, dt, m)"
   ]
  },
  {
   "cell_type": "code",
   "execution_count": null,
   "id": "a2a7332a-4a9c-4407-9994-3bb645cac710",
   "metadata": {},
   "outputs": [],
   "source": [
    "u0=1.0\n",
    "K=1\n",
    "N=6\n",
    "a=0\n",
    "b=1.0\n",
    "f(t, u)=u\n",
    "u, t=twoleDC(f, a, b, N, u0, Gs,K)\n"
   ]
  },
  {
   "cell_type": "code",
   "execution_count": null,
   "id": "9083705c-0ce6-427e-96b0-9953abd0dd0f",
   "metadata": {},
   "outputs": [],
   "source": [
    "u"
   ]
  },
  {
   "cell_type": "code",
   "execution_count": 57,
   "id": "66158702-284d-4d18-b06f-908cfc3c3276",
   "metadata": {},
   "outputs": [
    {
     "data": {
      "text/plain": [
       "dc22 (generic function with 1 method)"
      ]
     },
     "execution_count": 57,
     "metadata": {},
     "output_type": "execute_result"
    }
   ],
   "source": [
    "function dc22(f, a, b, N, u0, G, K)\n",
    "    dt = (b - a) / N\n",
    "    m = 2 \n",
    "    DT=m*dt\n",
    "    u = zeros(1, N + 1, K + 1)\n",
    "    u[1, 1, 1] = u0\n",
    "    ps=3:m:N\n",
    "    u[1, ps, 1] = rand(length(ps)) # initializing random values\n",
    "    t =(0:N)*dt\n",
    "    up=zeros(N+1)\n",
    "    up[1]=u0\n",
    "    \n",
    "\n",
    "    for k in 1:K\n",
    "        u[1, 1, k + 1] = u0\n",
    "\n",
    "        for i in 1:m\n",
    "            # First segment\n",
    "            up[i+1] = G(t[i], t[i+1], u[1, i, k], dt, m-1)\n",
    "            \n",
    "\n",
    "             #second segment\n",
    "            if i <= m\n",
    "               j = m + i\n",
    "                up[j+1] = G(t[j], t[j+1], u[1, j, k], dt, m-1)\n",
    "            end\n",
    "\n",
    "             #third segment \n",
    "            if i <= m+1\n",
    "                l = m + 2 + i\n",
    "                up[l+1] = G(t[l], t[l+1], u[1, l, k], dt, m-1)\n",
    "            end\n",
    "        end\n",
    "\n",
    "        for j=1:m:N\n",
    "            u[1, j+2, k+1]=u[1, j, k+1]+ DT*(f(t[j], u[1, j, k+1])-f(t[j], up[j]))+LReg(t[j:j+2], f(t[j:j+2], up[j:j+2]), t[j], t[j+2])\n",
    "        end\n",
    "        \n",
    "    end\n",
    "\n",
    "    return t, u, up\n",
    "end"
   ]
  },
  {
   "cell_type": "code",
   "execution_count": 59,
   "id": "dbc96a7a-0a9a-4360-a234-20e3b221d84a",
   "metadata": {},
   "outputs": [
    {
     "data": {
      "text/plain": [
       "1×7×6 Array{Float64, 3}:\n",
       "[:, :, 1] =\n",
       " 1.0  1.16667  1.36111  0.27673  0.322852  0.850985  0.992816\n",
       "\n",
       "[:, :, 2] =\n",
       " 1.0  1.16667  1.36111  1.62397  1.89463  1.89014  2.20516\n",
       "\n",
       "[:, :, 3] =\n",
       " 1.0  1.16667  1.36111  1.62397  1.89463  2.26853  2.64662\n",
       "\n",
       "[:, :, 4] =\n",
       " 1.0  1.16667  1.36111  1.62397  1.89463  2.26853  2.64662\n",
       "\n",
       "[:, :, 5] =\n",
       " 1.0  1.16667  1.36111  1.62397  1.89463  2.26853  2.64662\n",
       "\n",
       "[:, :, 6] =\n",
       " 1.0  0.0  1.39198  0.0  1.94445  0.0  2.7177"
      ]
     },
     "execution_count": 59,
     "metadata": {},
     "output_type": "execute_result"
    }
   ],
   "source": [
    "u0=1.0\n",
    "K=5\n",
    "N=6\n",
    "a=0\n",
    "b=1.0\n",
    "f(t, u)=u\n",
    "t, u= dc22(f, a, b, N, u0, Gs, K)\n",
    "u"
   ]
  },
  {
   "cell_type": "code",
   "execution_count": null,
   "id": "3cbeb244-01c9-44f5-b659-683eecd730b9",
   "metadata": {},
   "outputs": [],
   "source": [
    "up"
   ]
  },
  {
   "cell_type": "code",
   "execution_count": null,
   "id": "1fd3de23-50c2-47d8-a8e2-8c0f59c9ce29",
   "metadata": {},
   "outputs": [],
   "source": [
    "using LinearAlgebra, Plots\n",
    "\n",
    "u0 = 1.0\n",
    "a = 0\n",
    "b = 1.0\n",
    "f(t, u) = u\n",
    "N = 6\n",
    "K = 4 # Number of Iterations\n",
    "m = 2\n",
    "err=zeros(K+1)\n",
    "tval, u= dc22(f, a, b, N, u0, K) # Approximate Solution\n",
    "U, t = Ref(f, a, b, u0, N) # Reference Solution\n",
    "for k=1:K+1\n",
    "    err[k]= norm(U[1, 1:m:end, 2] .- u[1, 1:m:end, k], Inf)\n",
    "end\n",
    "plot(0:K, err, yaxis=:log, xlabel=\"Number of Iterations\", ylabel=\"Error\")"
   ]
  },
  {
   "cell_type": "code",
   "execution_count": 49,
   "id": "01bd1906-06eb-4fc4-9631-46c770e62049",
   "metadata": {},
   "outputs": [
    {
     "data": {
      "text/plain": [
       "twoDC (generic function with 1 method)"
      ]
     },
     "execution_count": 49,
     "metadata": {},
     "output_type": "execute_result"
    }
   ],
   "source": [
    "function twoDC(f, a, b, N, u0, H, K)\n",
    "    dt = (b - a) / N\n",
    "    m = 2  # Number of steps in the first time domain\n",
    "    DT = m * dt\n",
    "    u = zeros(1, N + 1, K + 1)\n",
    "    u[1, 1, 1] = u0\n",
    "    ps = 3:m:N\n",
    "    u[1, ps, 1] = ones(length(ps))  # initializing random values\n",
    "    t = (0:N) * dt\n",
    "    up = zeros(N+1)\n",
    "    up[1] = u0\n",
    "\n",
    "    for k in 1:K\n",
    "        u[1, 1, k + 1] = u0\n",
    "\n",
    "        for i in 1:m\n",
    "            # First segment\n",
    "            u[1, i+1, k] = H(t[i], t[i+1], u[1, i, k], dt, m-1)\n",
    "            u[1, i, k]=u[1, i+1, k]\n",
    "            # Second segment\n",
    "            j = m + i\n",
    "            if j <= N\n",
    "                u[1, j+1, k] = H(t[j], t[j+1], u[1, j, k], dt, m-1)\n",
    "            end\n",
    "\n",
    "            # Third segment\n",
    "            l = m + 2 + i\n",
    "            if l <= N\n",
    "                u[1, l+1, k] = H(t[l], t[l+1], u[1, l, k], dt, m-1)\n",
    "            end\n",
    "        end\n",
    "\n",
    "        for j in 1:m:N\n",
    "            u[1, j+2, k+1] = u[1, j, k+1] + DT * (f(t[j], u[1, j, k+1]) - f(t[j], u[1, j, k])) + LReg(t[j:j+2], f(t[j:j+2], u[1, j:j+2, k]), t[j], t[j+2])\n",
    "        end\n",
    "    end\n",
    "\n",
    "    return t, u\n",
    "end"
   ]
  },
  {
   "cell_type": "code",
   "execution_count": 41,
   "id": "33716669-789b-4830-ada8-a972043de5ae",
   "metadata": {},
   "outputs": [
    {
     "data": {
      "text/plain": [
       "inter (generic function with 1 method)"
      ]
     },
     "execution_count": 41,
     "metadata": {},
     "output_type": "execute_result"
    }
   ],
   "source": [
    "function inter(a, b, u0, dt, m)\n",
    "    uk=zeros(m+1)\n",
    "    uk[1]=u0\n",
    "    tv=a:dt:b\n",
    "    for i=1:m\n",
    "        uk[i+1]=uk[i]+dt*f(tv[i], uk[i])\n",
    "    end\n",
    "    return uk[end]\n",
    "end"
   ]
  },
  {
   "cell_type": "code",
   "execution_count": 47,
   "id": "a097517f-b809-4c1d-b466-6542794d37e1",
   "metadata": {},
   "outputs": [
    {
     "data": {
      "text/plain": [
       "1×7×5 Array{Float64, 3}:\n",
       "[:, :, 1] =\n",
       " 1.0  0.0  1.0  0.0  1.0  0.0  0.0\n",
       "\n",
       "[:, :, 2] =\n",
       " 1.0  1.16667  1.22222  1.16667  1.51852  1.16667  1.80247\n",
       "\n",
       "[:, :, 3] =\n",
       " 1.0  1.16667  1.37654  1.42593  1.86214  1.7716  2.47531\n",
       "\n",
       "[:, :, 4] =\n",
       " 1.0  1.16667  1.39369  1.60597  1.9177  2.1725  2.615\n",
       "\n",
       "[:, :, 5] =\n",
       " 1.0  1.16667  1.3956  1.62597  1.9426  2.23731  2.69593"
      ]
     },
     "execution_count": 47,
     "metadata": {},
     "output_type": "execute_result"
    }
   ],
   "source": [
    "u0=1.0\n",
    "K=4\n",
    "N=6\n",
    "a=0\n",
    "b=1.0\n",
    "f(t, u)=u\n",
    "t, u=twoDC(f, a, b, N, u0, inter, K)\n",
    "U, t= Ref(f, a, b, u0, N)\n",
    "u"
   ]
  },
  {
   "cell_type": "code",
   "execution_count": 37,
   "id": "a5530119-378c-4656-8320-f287109ee938",
   "metadata": {},
   "outputs": [
    {
     "data": {
      "text/plain": [
       "1×7×2 Array{Float64, 3}:\n",
       "[:, :, 1] =\n",
       " 1.0  1.16667  1.39198  1.62397  1.9376  2.26053  2.63728\n",
       "\n",
       "[:, :, 2] =\n",
       " 1.0  0.0  1.39198  0.0  1.9376  0.0  2.69708"
      ]
     },
     "execution_count": 37,
     "metadata": {},
     "output_type": "execute_result"
    }
   ],
   "source": [
    "U"
   ]
  },
  {
   "cell_type": "code",
   "execution_count": null,
   "id": "1f889ad2-0e17-417c-af3f-d3136094ef58",
   "metadata": {},
   "outputs": [],
   "source": []
  }
 ],
 "metadata": {
  "kernelspec": {
   "display_name": "Julia 1.10.4",
   "language": "julia",
   "name": "julia-1.10"
  },
  "language_info": {
   "file_extension": ".jl",
   "mimetype": "application/julia",
   "name": "julia",
   "version": "1.10.4"
  }
 },
 "nbformat": 4,
 "nbformat_minor": 5
}
