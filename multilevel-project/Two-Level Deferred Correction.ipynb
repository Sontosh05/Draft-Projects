{
 "cells": [
  {
   "cell_type": "code",
   "execution_count": 1,
   "id": "650ff5f3-da13-4cb7-be1f-fbef58ebeb38",
   "metadata": {},
   "outputs": [
    {
     "name": "stderr",
     "output_type": "stream",
     "text": [
      "WARNING: using Polynomials.vander in module Main conflicts with an existing identifier.\n"
     ]
    },
    {
     "data": {
      "text/plain": [
       "LReg (generic function with 1 method)"
      ]
     },
     "execution_count": 1,
     "metadata": {},
     "output_type": "execute_result"
    }
   ],
   "source": [
    "using Plots\n",
    "include(\"polyfit_function.jl\")\n",
    "include(\"Lagrange_interpolation.jl\")\n",
    "include(\"LReg.jl\")"
   ]
  },
  {
   "cell_type": "code",
   "execution_count": 3,
   "id": "7dc1b609-1844-4f2b-82eb-8adff99fb158",
   "metadata": {},
   "outputs": [
    {
     "data": {
      "text/plain": [
       "Ref (generic function with 1 method)"
      ]
     },
     "execution_count": 3,
     "metadata": {},
     "output_type": "execute_result"
    }
   ],
   "source": [
    "function Ref(f, a, b, u0, N)\n",
    "    dt=(b-a)/N\n",
    "    t=(0:N)*dt\n",
    "    m=2\n",
    "    DT=m*dt\n",
    "    U=zeros(1, N+1, 2)\n",
    "    U[1, 1, 1]=u0\n",
    "    U[1, 1, 2]=u0\n",
    "    \n",
    "    for i=1:m:N\n",
    "\n",
    "        U[1, i, 1]=U[1, i, 2]\n",
    "        for j=i:i+1\n",
    "            U[1, j+1, 1]= U[1, j, 1]+dt*f(t[j], U[1, j, 1])\n",
    "        end\n",
    "           \n",
    "        U[1, i+2, 2]= U[1, i, 2]+ DT*(f(t[i], U[1, i, 2])-f(t[i], U[1, i, 1])) + LReg(t[i:i+2], f(t[i:i+2], U[1, i:i+2, 1]), t[i], t[i+2])\n",
    "    end\n",
    "        \n",
    "    return  U, t\n",
    "end"
   ]
  },
  {
   "cell_type": "code",
   "execution_count": null,
   "id": "fa02279d-8c58-4f4b-a1f6-0f89cb47fa0f",
   "metadata": {},
   "outputs": [],
   "source": [
    "# Convergence test\n",
    "using LinearAlgebra\n",
    "\n",
    "u0 = 1.0\n",
    "lambda= 1\n",
    "a=0\n",
    "b=1.0\n",
    "K = 5\n",
    "err = zeros(K, 1)\n",
    "ns=zeros(K, 1)\n",
    "m=2\n",
    "f(t, y) = lambda * y\n",
    "\n",
    "for k in 1:K\n",
    "    \n",
    "    N = 10*k\n",
    "    \n",
    "    ns[k]=N\n",
    "    U, t= Ref(f, a, b, u0, N)\n",
    "    exact= u0*exp.(lambda .* t)\n",
    "    err[k] = norm(exact[1:m:end] .- U[1, 1:m:end, 2], Inf)\n",
    "end\n",
    "\n",
    "# Compute order of convergence and error plot\n",
    "pdeg = polyfit(log10.(ns[:]), log10.(err[:]),1)\n",
    "print(\"convergence order = \",abs(pdeg[2]),\"\\n\") \n",
    "plot(ns, err[:], xaxis=:log, yaxis=:log, label=\"Reference Solution\")\n",
    "display(plot!(legend=:topright))"
   ]
  },
  {
   "cell_type": "code",
   "execution_count": 5,
   "id": "ad79eef8-3ac8-45a4-b76c-f97eb1b0d39f",
   "metadata": {},
   "outputs": [
    {
     "data": {
      "text/plain": [
       "grid2c (generic function with 1 method)"
      ]
     },
     "execution_count": 5,
     "metadata": {},
     "output_type": "execute_result"
    }
   ],
   "source": [
    "function grid2c(f, a, b, u0, N, K)\n",
    "    dt=(b-a)/N\n",
    "    t=(0:N)*dt\n",
    "    m=2\n",
    "    J= N÷m\n",
    "    DT=m*dt\n",
    "    Tval=(0:J)*DT\n",
    "    u=zeros(1, N+1, K+1)\n",
    "    u[1, 1, 1]=u0\n",
    "    ps=3:m:N\n",
    "    u[1, ps, 1] = rand(length(ps))\n",
    "\n",
    "\n",
    "    # 2 level iteration\n",
    "    fk=zeros(m+1)\n",
    "    for k=1:K\n",
    "        u[1, 1, k+1]=u0\n",
    "        for i=1:m:N\n",
    "            \n",
    "            # Sequential solution on each time slice\n",
    "            fk[1]=u[1, i, k]\n",
    "            for j=1:m\n",
    "                fk[j+1]=fk[j]+dt*f(t[i+j-1], fk[j])\n",
    "            end\n",
    "            \n",
    "            # Updated solution on the coarse nodes\n",
    "            u[1, i+2, k+1]= u[1, i, k+1]+ DT*(f(t[i], u[1, i, k+1])-f(t[i], fk[1])) + LReg(t[i:i+2], f(t[i:i+2], fk[1:3]), t[i], t[i+2])\n",
    "        end\n",
    "    end\n",
    "        \n",
    "    return u, t\n",
    "end"
   ]
  },
  {
   "cell_type": "code",
   "execution_count": null,
   "id": "de6da16e-2267-4d7a-9ab8-e15a0196a473",
   "metadata": {},
   "outputs": [],
   "source": [
    "# Convergence test\n",
    "using LinearAlgebra\n",
    "\n",
    "u0 = 1.0\n",
    "lambda= 1\n",
    "a=0\n",
    "b=1.0\n",
    "K = 6\n",
    "err = zeros(K, 1)\n",
    "ns=zeros(K, 1)\n",
    "m=2\n",
    "f(t, y) = lambda * y\n",
    "\n",
    "for k in 1:K\n",
    "    \n",
    "    N = 10*k\n",
    "    \n",
    "    ns[k]=N\n",
    "    u, t= grid2c(f, a, b, u0, N, K)\n",
    "    exact= u0*exp.(lambda .* t)\n",
    "    err[k] = norm(exact[1:m:end] .- u[1, 1:m:end, itr], Inf)\n",
    "end\n",
    "\n",
    "# Compute order of convergence and error plot\n",
    "pdeg = polyfit(log10.(ns[:]), log10.(err[:]),1)\n",
    "print(\"convergence order = \",abs(pdeg[2]),\"\\n\") \n",
    "plot(ns, err[:], xaxis=:log, yaxis=:log, label=\"2 Level DC\")\n",
    "display(plot!(legend=:topright))"
   ]
  },
  {
   "cell_type": "code",
   "execution_count": null,
   "id": "43d868bb-a896-490e-b578-6e7abfd00ad2",
   "metadata": {},
   "outputs": [],
   "source": [
    "using LinearAlgebra, Plots\n",
    "\n",
    "u0 = 1.0\n",
    "a = 0\n",
    "b = 1.0\n",
    "f(t, u) = u\n",
    "N = 20\n",
    "K = 7 # Number of Iterations\n",
    "m = 2\n",
    "err=zeros(K+1)\n",
    "u, t= grid2c(f, a, b, u0, N, K) # Approximate Solution\n",
    "U, t = Ref(f, a, b, u0, N) # Reference Solution\n",
    "for k=1:K+1\n",
    "    err[k]= norm(U[1, 1:m:end, 2] .- u[1, 1:m:end, k], Inf)\n",
    "end\n",
    "plot(0:K, err, yaxis=:log, xlabel=\"Number of Iterations\", ylabel=\"Error\")"
   ]
  },
  {
   "cell_type": "code",
   "execution_count": null,
   "id": "4dbf4320-37c4-4765-a630-e104a27fb3b1",
   "metadata": {},
   "outputs": [],
   "source": [
    "# Finite Step Convergenec\n",
    "\n",
    "using LinearAlgebra, Plots\n",
    "\n",
    "u0 = 1.0\n",
    "a = 0\n",
    "b = 1.0\n",
    "f(t, u) = -u .+ sin.(10*t)\n",
    "N = 20\n",
    "K = 5 # Number of Iterations\n",
    "m = 2\n",
    "\n",
    "u, t = grid2c(f, a, b, u0, N, K) # Approximate Solution\n",
    "U, t = Ref(f, a, b, u0, N) # Reference Solution\n",
    "\n",
    "tval = t[1:m:end] # Coarse time points\n",
    "err = norm.(U[1, 1:m:end, 2] .- u[1, 1:m:end, K], Inf) .+ 10^(-15)\n",
    "\n",
    "plot(tval, err, xlabel=\" Time\", yaxis=:log, ylabel=\"Error\", title=\"Error vs Time\", xticks=(tval, string.(tval)))"
   ]
  },
  {
   "cell_type": "code",
   "execution_count": null,
   "id": "b9a076d7-92a3-4cdc-95ca-fd9978ef4588",
   "metadata": {},
   "outputs": [],
   "source": [
    "using LinearAlgebra, Plots\n",
    "\n",
    "u0 = 1.0\n",
    "a = 0\n",
    "b = 1/2\n",
    "f(t, u) =  u .^2\n",
    "\n",
    "K = 5  # Number of Iterations\n",
    "m = 2\n",
    "Nk= 10\n",
    "ns=zeros(Nk)\n",
    "error=zeros(Nk, K)\n",
    "for k=1:K\n",
    "    for n=1:Nk\n",
    "        N=10*n\n",
    "        ns[n]=N\n",
    "        u, t = grid2c(f, a, b, u0, N, k)\n",
    "        U, t = Ref(f, a, b, u0, N)\n",
    "        error[n, k]= norm(U[1, 1:m:end, 2] .- u[1, 1:m:end, k])\n",
    "    end\n",
    "end\n",
    "\n",
    "# Compute order of convergence and error plot\n",
    "pdeg = polyfit(log10.(ns[:]), log10.(error[:, 1]),1)\n",
    "print(\"Order p= \", abs(pdeg[2]),\"\\n\") \n",
    "plot(ns, error[:, 1],xaxis=:log, yaxis=:log, label=\"Predictor\")\n",
    "for j in 2:K\n",
    "    plot!(ns, error[:, j], xaxis=:log, yaxis=:log, label=\"$(j-1) Correction\")\n",
    "    pdeg = polyfit(log10.(ns[:]), log10.(error[:, j]),1)\n",
    "    print(\"Order p= \", abs(pdeg[2]),\"\\n\")\n",
    "end\n",
    "display(plot!(legend=:bottomleft))"
   ]
  },
  {
   "cell_type": "code",
   "execution_count": 71,
   "id": "225e28cf-7b49-4cd5-88cc-463bbcb3f5d8",
   "metadata": {},
   "outputs": [
    {
     "data": {
      "text/plain": [
       "twoleDC (generic function with 1 method)"
      ]
     },
     "execution_count": 71,
     "metadata": {},
     "output_type": "execute_result"
    }
   ],
   "source": [
    "function twoleDC(f, a, b, N, u0, G, K)\n",
    "\n",
    "    m=2\n",
    "    dt=(b-a)/N\n",
    "    tval=(0:N)*dt\n",
    "    DT=m*dt\n",
    "    u=zeros(1, N+1, K+1)\n",
    "    u[1, 1, 1]=u0\n",
    "    ps=3:m:N\n",
    "    u[1, ps, 1] = ones(length(ps)) # initializing random values\n",
    "    for k=1:K\n",
    "        u[1, 1, k+1]=u0\n",
    "        for i=1:m:N\n",
    "            Gk=G(tval[i], tval[i+2], u[1, i, k], dt, m) # Sequential solution on time slice (m=2)\n",
    "            # Updated solution on the coarse nodes\n",
    "            u[1, i+2, k+1]= u[1, i, k+1]+ DT*(f(tval[i], u[1, i, k+1])-f(tval[i], Gk[1])) + LReg(tval[i:i+2], f(tval[i:i+2], Gk[1:3]), tval[i], tval[i+2])\n",
    "        end\n",
    "    end\n",
    "    return u, tval\n",
    "end"
   ]
  },
  {
   "cell_type": "code",
   "execution_count": 73,
   "id": "c37fe809-123c-48f3-bdfe-481754000c0c",
   "metadata": {},
   "outputs": [
    {
     "data": {
      "text/plain": [
       "Gs (generic function with 1 method)"
      ]
     },
     "execution_count": 73,
     "metadata": {},
     "output_type": "execute_result"
    }
   ],
   "source": [
    "function Gs(a, b, u0, dt, m)\n",
    "    uk=zeros(m+1)\n",
    "    uk[1]=u0\n",
    "    tv=a:dt:b\n",
    "    for i=1:m\n",
    "        uk[i+1]=uk[i]+dt*f(tv[i], uk[i])\n",
    "    end\n",
    "    return uk\n",
    "end"
   ]
  },
  {
   "cell_type": "code",
   "execution_count": 79,
   "id": "d24d7d65-65b3-4fd2-ada9-dea48ef5bcac",
   "metadata": {},
   "outputs": [
    {
     "data": {
      "image/png": "[encoded data removed]",
      "image/svg+xml": [
       "<?xml version=\"1.0\" encoding=\"utf-8\"?>\n",
       "<svg xmlns=\"http://www.w3.org/2000/svg\" xmlns:xlink=\"http://www.w3.org/1999/xlink\" width=\"600\" height=\"400\" viewBox=\"0 0 2400 1600\">\n",
       "<defs>\n",
       "  <clipPath id=\"clip240\">\n",
       "    <rect x=\"0\" y=\"0\" width=\"2400\" height=\"1600\"/>\n",
       "  </clipPath>\n",
       "</defs>\n",
       "<path clip-path=\"url(#clip240)\" d=\"M0 1600 L2400 1600 L2400 8.88178e-14 L0 8.88178e-14  Z\" fill=\"#ffffff\" fill-rule=\"evenodd\" fill-opacity=\"1\"/>\n",
       "<defs>\n",
       "  <clipPath id=\"clip241\">\n",
       "    <rect x=\"480\" y=\"0\" width=\"1681\" height=\"1600\"/>\n",
       "  </clipPath>\n",
       "</defs>\n",
       "<path clip-path=\"url(#clip240)\" d=\"M276.876 1423.18 L2352.76 1423.18 L2352.76 47.2441 L276.876 47.2441  Z\" fill=\"#ffffff\" fill-rule=\"evenodd\" fill-opacity=\"1\"/>\n",
       "<defs>\n",
       "  <clipPath id=\"clip242\">\n",
       "    <rect x=\"276\" y=\"47\" width=\"2077\" height=\"1377\"/>\n",
       "  </clipPath>\n",
       "</defs>\n",
       "<polyline clip-path=\"url(#clip242)\" style=\"stroke:#000000; stroke-linecap:round; stroke-linejoin:round; stroke-width:2; stroke-opacity:0.1; fill:none\" points=\"335.627,1423.18 335.627,47.2441 \"/>\n",
       "<polyline clip-path=\"url(#clip242)\" style=\"stroke:#000000; stroke-linecap:round; stroke-linejoin:round; stroke-width:2; stroke-opacity:0.1; fill:none\" points=\"825.221,1423.18 825.221,47.2441 \"/>\n",
       "<polyline clip-path=\"url(#clip242)\" style=\"stroke:#000000; stroke-linecap:round; stroke-linejoin:round; stroke-width:2; stroke-opacity:0.1; fill:none\" points=\"1314.82,1423.18 1314.82,47.2441 \"/>\n",
       "<polyline clip-path=\"url(#clip242)\" style=\"stroke:#000000; stroke-linecap:round; stroke-linejoin:round; stroke-width:2; stroke-opacity:0.1; fill:none\" points=\"1804.41,1423.18 1804.41,47.2441 \"/>\n",
       "<polyline clip-path=\"url(#clip242)\" style=\"stroke:#000000; stroke-linecap:round; stroke-linejoin:round; stroke-width:2; stroke-opacity:0.1; fill:none\" points=\"2294,1423.18 2294,47.2441 \"/>\n",
       "<polyline clip-path=\"url(#clip240)\" style=\"stroke:#000000; stroke-linecap:round; stroke-linejoin:round; stroke-width:4; stroke-opacity:1; fill:none\" points=\"276.876,1423.18 2352.76,1423.18 \"/>\n",
       "<polyline clip-path=\"url(#clip240)\" style=\"stroke:#000000; stroke-linecap:round; stroke-linejoin:round; stroke-width:4; stroke-opacity:1; fill:none\" points=\"335.627,1423.18 335.627,1404.28 \"/>\n",
       "<polyline clip-path=\"url(#clip240)\" style=\"stroke:#000000; stroke-linecap:round; stroke-linejoin:round; stroke-width:4; stroke-opacity:1; fill:none\" points=\"825.221,1423.18 825.221,1404.28 \"/>\n",
       "<polyline clip-path=\"url(#clip240)\" style=\"stroke:#000000; stroke-linecap:round; stroke-linejoin:round; stroke-width:4; stroke-opacity:1; fill:none\" points=\"1314.82,1423.18 1314.82,1404.28 \"/>\n",
       "<polyline clip-path=\"url(#clip240)\" style=\"stroke:#000000; stroke-linecap:round; stroke-linejoin:round; stroke-width:4; stroke-opacity:1; fill:none\" points=\"1804.41,1423.18 1804.41,1404.28 \"/>\n",
       "<polyline clip-path=\"url(#clip240)\" style=\"stroke:#000000; stroke-linecap:round; stroke-linejoin:round; stroke-width:4; stroke-opacity:1; fill:none\" points=\"2294,1423.18 2294,1404.28 \"/>\n",
       "<path clip-path=\"url(#clip240)\" d=\"M335.627 1454.1 Q332.016 1454.1 330.187 1457.66 Q328.382 1461.2 328.382 1468.33 Q328.382 1475.44 330.187 1479.01 Q332.016 1482.55 335.627 1482.55 Q339.261 1482.55 341.067 1479.01 Q342.895 1475.44 342.895 1468.33 Q342.895 1461.2 341.067 1457.66 Q339.261 1454.1 335.627 1454.1 M335.627 1450.39 Q341.437 1450.39 344.493 1455 Q347.571 1459.58 347.571 1468.33 Q347.571 1477.06 344.493 1481.67 Q341.437 1486.25 335.627 1486.25 Q329.817 1486.25 326.738 1481.67 Q323.682 1477.06 323.682 1468.33 Q323.682 1459.58 326.738 1455 Q329.817 1450.39 335.627 1450.39 Z\" fill=\"#000000\" fill-rule=\"nonzero\" fill-opacity=\"1\" /><path clip-path=\"url(#clip240)\" d=\"M819.874 1481.64 L836.193 1481.64 L836.193 1485.58 L814.249 1485.58 L814.249 1481.64 Q816.911 1478.89 821.494 1474.26 Q826.101 1469.61 827.281 1468.27 Q829.527 1465.74 830.406 1464.01 Q831.309 1462.25 831.309 1460.56 Q831.309 1457.8 829.365 1456.07 Q827.443 1454.33 824.342 1454.33 Q822.143 1454.33 819.689 1455.09 Q817.258 1455.86 814.481 1457.41 L814.481 1452.69 Q817.305 1451.55 819.758 1450.97 Q822.212 1450.39 824.249 1450.39 Q829.619 1450.39 832.814 1453.08 Q836.008 1455.77 836.008 1460.26 Q836.008 1462.39 835.198 1464.31 Q834.411 1466.2 832.305 1468.8 Q831.726 1469.47 828.624 1472.69 Q825.522 1475.88 819.874 1481.64 Z\" fill=\"#000000\" fill-rule=\"nonzero\" fill-opacity=\"1\" /><path clip-path=\"url(#clip240)\" d=\"M1317.82 1455.09 L1306.02 1473.54 L1317.82 1473.54 L1317.82 1455.09 M1316.6 1451.02 L1322.48 1451.02 L1322.48 1473.54 L1327.41 1473.54 L1327.41 1477.43 L1322.48 1477.43 L1322.48 1485.58 L1317.82 1485.58 L1317.82 1477.43 L1302.22 1477.43 L1302.22 1472.92 L1316.6 1451.02 Z\" fill=\"#000000\" fill-rule=\"nonzero\" fill-opacity=\"1\" /><path clip-path=\"url(#clip240)\" d=\"M1804.82 1466.44 Q1801.67 1466.44 1799.82 1468.59 Q1797.99 1470.74 1797.99 1474.49 Q1797.99 1478.22 1799.82 1480.39 Q1801.67 1482.55 1804.82 1482.55 Q1807.96 1482.55 1809.79 1480.39 Q1811.64 1478.22 1811.64 1474.49 Q1811.64 1470.74 1809.79 1468.59 Q1807.96 1466.44 1804.82 1466.44 M1814.1 1451.78 L1814.1 1456.04 Q1812.34 1455.21 1810.53 1454.77 Q1808.75 1454.33 1806.99 1454.33 Q1802.36 1454.33 1799.91 1457.45 Q1797.48 1460.58 1797.13 1466.9 Q1798.5 1464.89 1800.56 1463.82 Q1802.62 1462.73 1805.09 1462.73 Q1810.3 1462.73 1813.31 1465.9 Q1816.34 1469.05 1816.34 1474.49 Q1816.34 1479.82 1813.19 1483.03 Q1810.05 1486.25 1804.82 1486.25 Q1798.82 1486.25 1795.65 1481.67 Q1792.48 1477.06 1792.48 1468.33 Q1792.48 1460.14 1796.37 1455.28 Q1800.26 1450.39 1806.81 1450.39 Q1808.57 1450.39 1810.35 1450.74 Q1812.15 1451.09 1814.1 1451.78 Z\" fill=\"#000000\" fill-rule=\"nonzero\" fill-opacity=\"1\" /><path clip-path=\"url(#clip240)\" d=\"M2294 1469.17 Q2290.67 1469.17 2288.75 1470.95 Q2286.85 1472.73 2286.85 1475.86 Q2286.85 1478.98 2288.75 1480.77 Q2290.67 1482.55 2294 1482.55 Q2297.34 1482.55 2299.26 1480.77 Q2301.18 1478.96 2301.18 1475.86 Q2301.18 1472.73 2299.26 1470.95 Q2297.36 1469.17 2294 1469.17 M2289.33 1467.18 Q2286.32 1466.44 2284.63 1464.38 Q2282.96 1462.32 2282.96 1459.35 Q2282.96 1455.21 2285.9 1452.8 Q2288.87 1450.39 2294 1450.39 Q2299.17 1450.39 2302.11 1452.8 Q2305.05 1455.21 2305.05 1459.35 Q2305.05 1462.32 2303.36 1464.38 Q2301.69 1466.44 2298.7 1467.18 Q2302.08 1467.96 2303.96 1470.26 Q2305.86 1472.55 2305.86 1475.86 Q2305.86 1480.88 2302.78 1483.57 Q2299.72 1486.25 2294 1486.25 Q2288.29 1486.25 2285.21 1483.57 Q2282.15 1480.88 2282.15 1475.86 Q2282.15 1472.55 2284.05 1470.26 Q2285.95 1467.96 2289.33 1467.18 M2287.62 1459.79 Q2287.62 1462.48 2289.28 1463.98 Q2290.97 1465.49 2294 1465.49 Q2297.01 1465.49 2298.7 1463.98 Q2300.42 1462.48 2300.42 1459.79 Q2300.42 1457.11 2298.7 1455.6 Q2297.01 1454.1 2294 1454.1 Q2290.97 1454.1 2289.28 1455.6 Q2287.62 1457.11 2287.62 1459.79 Z\" fill=\"#000000\" fill-rule=\"nonzero\" fill-opacity=\"1\" /><path clip-path=\"url(#clip240)\" d=\"M981.316 1520.52 L989.974 1520.52 L1011.04 1560.28 L1011.04 1520.52 L1017.28 1520.52 L1017.28 1568.04 L1008.63 1568.04 L987.555 1528.29 L987.555 1568.04 L981.316 1568.04 L981.316 1520.52 Z\" fill=\"#000000\" fill-rule=\"nonzero\" fill-opacity=\"1\" /><path clip-path=\"url(#clip240)\" d=\"M1029.22 1553.98 L1029.22 1532.4 L1035.07 1532.4 L1035.07 1553.75 Q1035.07 1558.81 1037.05 1561.36 Q1039.02 1563.87 1042.97 1563.87 Q1047.71 1563.87 1050.45 1560.85 Q1053.22 1557.83 1053.22 1552.61 L1053.22 1532.4 L1059.07 1532.4 L1059.07 1568.04 L1053.22 1568.04 L1053.22 1562.57 Q1051.08 1565.82 1048.25 1567.41 Q1045.45 1568.97 1041.73 1568.97 Q1035.58 1568.97 1032.4 1565.15 Q1029.22 1561.33 1029.22 1553.98 M1043.95 1531.54 L1043.95 1531.54 Z\" fill=\"#000000\" fill-rule=\"nonzero\" fill-opacity=\"1\" /><path clip-path=\"url(#clip240)\" d=\"M1098.89 1539.24 Q1101.09 1535.29 1104.14 1533.41 Q1107.2 1531.54 1111.34 1531.54 Q1116.91 1531.54 1119.93 1535.45 Q1122.95 1539.33 1122.95 1546.53 L1122.95 1568.04 L1117.07 1568.04 L1117.07 1546.72 Q1117.07 1541.59 1115.25 1539.11 Q1113.44 1536.63 1109.71 1536.63 Q1105.16 1536.63 1102.52 1539.65 Q1099.88 1542.68 1099.88 1547.9 L1099.88 1568.04 L1093.99 1568.04 L1093.99 1546.72 Q1093.99 1541.56 1092.18 1539.11 Q1090.36 1536.63 1086.57 1536.63 Q1082.09 1536.63 1079.44 1539.68 Q1076.8 1542.71 1076.8 1547.9 L1076.8 1568.04 L1070.91 1568.04 L1070.91 1532.4 L1076.8 1532.4 L1076.8 1537.93 Q1078.81 1534.66 1081.61 1533.1 Q1084.41 1531.54 1088.26 1531.54 Q1092.14 1531.54 1094.85 1533.51 Q1097.59 1535.48 1098.89 1539.24 Z\" fill=\"#000000\" fill-rule=\"nonzero\" fill-opacity=\"1\" /><path clip-path=\"url(#clip240)\" d=\"M1160.22 1550.25 Q1160.22 1543.79 1157.55 1540.13 Q1154.91 1536.44 1150.26 1536.44 Q1145.62 1536.44 1142.94 1540.13 Q1140.3 1543.79 1140.3 1550.25 Q1140.3 1556.71 1142.94 1560.4 Q1145.62 1564.07 1150.26 1564.07 Q1154.91 1564.07 1157.55 1560.4 Q1160.22 1556.71 1160.22 1550.25 M1140.3 1537.81 Q1142.15 1534.62 1144.95 1533.1 Q1147.78 1531.54 1151.69 1531.54 Q1158.19 1531.54 1162.23 1536.69 Q1166.3 1541.85 1166.3 1550.25 Q1166.3 1558.65 1162.23 1563.81 Q1158.19 1568.97 1151.69 1568.97 Q1147.78 1568.97 1144.95 1567.44 Q1142.15 1565.88 1140.3 1562.7 L1140.3 1568.04 L1134.41 1568.04 L1134.41 1518.52 L1140.3 1518.52 L1140.3 1537.81 Z\" fill=\"#000000\" fill-rule=\"nonzero\" fill-opacity=\"1\" /><path clip-path=\"url(#clip240)\" d=\"M1206.5 1548.76 L1206.5 1551.62 L1179.58 1551.62 Q1179.96 1557.67 1183.2 1560.85 Q1186.48 1564 1192.31 1564 Q1195.68 1564 1198.83 1563.17 Q1202.02 1562.35 1205.13 1560.69 L1205.13 1566.23 Q1201.98 1567.57 1198.67 1568.27 Q1195.36 1568.97 1191.96 1568.97 Q1183.43 1568.97 1178.43 1564 Q1173.47 1559.04 1173.47 1550.57 Q1173.47 1541.82 1178.18 1536.69 Q1182.92 1531.54 1190.94 1531.54 Q1198.13 1531.54 1202.3 1536.18 Q1206.5 1540.8 1206.5 1548.76 M1200.65 1547.04 Q1200.58 1542.23 1197.94 1539.37 Q1195.33 1536.5 1191 1536.5 Q1186.1 1536.5 1183.14 1539.27 Q1180.21 1542.04 1179.77 1547.07 L1200.65 1547.04 Z\" fill=\"#000000\" fill-rule=\"nonzero\" fill-opacity=\"1\" /><path clip-path=\"url(#clip240)\" d=\"M1236.77 1537.87 Q1235.79 1537.3 1234.61 1537.04 Q1233.46 1536.76 1232.06 1536.76 Q1227.1 1536.76 1224.42 1540 Q1221.78 1543.22 1221.78 1549.27 L1221.78 1568.04 L1215.89 1568.04 L1215.89 1532.4 L1221.78 1532.4 L1221.78 1537.93 Q1223.63 1534.69 1226.59 1533.13 Q1229.55 1531.54 1233.78 1531.54 Q1234.39 1531.54 1235.12 1531.63 Q1235.85 1531.7 1236.74 1531.85 L1236.77 1537.87 Z\" fill=\"#000000\" fill-rule=\"nonzero\" fill-opacity=\"1\" /><path clip-path=\"url(#clip240)\" d=\"M1277.45 1536.5 Q1272.74 1536.5 1270 1540.19 Q1267.26 1543.85 1267.26 1550.25 Q1267.26 1556.65 1269.97 1560.34 Q1272.71 1564 1277.45 1564 Q1282.13 1564 1284.87 1560.31 Q1287.6 1556.62 1287.6 1550.25 Q1287.6 1543.92 1284.87 1540.23 Q1282.13 1536.5 1277.45 1536.5 M1277.45 1531.54 Q1285.09 1531.54 1289.45 1536.5 Q1293.81 1541.47 1293.81 1550.25 Q1293.81 1559 1289.45 1564 Q1285.09 1568.97 1277.45 1568.97 Q1269.78 1568.97 1265.42 1564 Q1261.09 1559 1261.09 1550.25 Q1261.09 1541.47 1265.42 1536.5 Q1269.78 1531.54 1277.45 1531.54 Z\" fill=\"#000000\" fill-rule=\"nonzero\" fill-opacity=\"1\" /><path clip-path=\"url(#clip240)\" d=\"M1321.56 1518.52 L1321.56 1523.39 L1315.96 1523.39 Q1312.81 1523.39 1311.57 1524.66 Q1310.36 1525.93 1310.36 1529.24 L1310.36 1532.4 L1320 1532.4 L1320 1536.95 L1310.36 1536.95 L1310.36 1568.04 L1304.47 1568.04 L1304.47 1536.95 L1298.87 1536.95 L1298.87 1532.4 L1304.47 1532.4 L1304.47 1529.91 Q1304.47 1523.96 1307.24 1521.26 Q1310.01 1518.52 1316.03 1518.52 L1321.56 1518.52 Z\" fill=\"#000000\" fill-rule=\"nonzero\" fill-opacity=\"1\" /><path clip-path=\"url(#clip240)\" d=\"M1347.44 1520.52 L1353.87 1520.52 L1353.87 1568.04 L1347.44 1568.04 L1347.44 1520.52 Z\" fill=\"#000000\" fill-rule=\"nonzero\" fill-opacity=\"1\" /><path clip-path=\"url(#clip240)\" d=\"M1372.2 1522.27 L1372.2 1532.4 L1384.27 1532.4 L1384.27 1536.95 L1372.2 1536.95 L1372.2 1556.3 Q1372.2 1560.66 1373.38 1561.9 Q1374.59 1563.14 1378.25 1563.14 L1384.27 1563.14 L1384.27 1568.04 L1378.25 1568.04 Q1371.47 1568.04 1368.89 1565.53 Q1366.31 1562.98 1366.31 1556.3 L1366.31 1536.95 L1362.02 1536.95 L1362.02 1532.4 L1366.31 1532.4 L1366.31 1522.27 L1372.2 1522.27 Z\" fill=\"#000000\" fill-rule=\"nonzero\" fill-opacity=\"1\" /><path clip-path=\"url(#clip240)\" d=\"M1422.46 1548.76 L1422.46 1551.62 L1395.53 1551.62 Q1395.91 1557.67 1399.16 1560.85 Q1402.44 1564 1408.26 1564 Q1411.64 1564 1414.79 1563.17 Q1417.97 1562.35 1421.09 1560.69 L1421.09 1566.23 Q1417.94 1567.57 1414.63 1568.27 Q1411.32 1568.97 1407.91 1568.97 Q1399.38 1568.97 1394.39 1564 Q1389.42 1559.04 1389.42 1550.57 Q1389.42 1541.82 1394.13 1536.69 Q1398.87 1531.54 1406.9 1531.54 Q1414.09 1531.54 1418.26 1536.18 Q1422.46 1540.8 1422.46 1548.76 M1416.6 1547.04 Q1416.54 1542.23 1413.9 1539.37 Q1411.29 1536.5 1406.96 1536.5 Q1402.06 1536.5 1399.1 1539.27 Q1396.17 1542.04 1395.72 1547.07 L1416.6 1547.04 Z\" fill=\"#000000\" fill-rule=\"nonzero\" fill-opacity=\"1\" /><path clip-path=\"url(#clip240)\" d=\"M1452.73 1537.87 Q1451.74 1537.3 1450.56 1537.04 Q1449.42 1536.76 1448.02 1536.76 Q1443.05 1536.76 1440.38 1540 Q1437.74 1543.22 1437.74 1549.27 L1437.74 1568.04 L1431.85 1568.04 L1431.85 1532.4 L1437.74 1532.4 L1437.74 1537.93 Q1439.58 1534.69 1442.54 1533.13 Q1445.5 1531.54 1449.74 1531.54 Q1450.34 1531.54 1451.07 1531.63 Q1451.81 1531.7 1452.7 1531.85 L1452.73 1537.87 Z\" fill=\"#000000\" fill-rule=\"nonzero\" fill-opacity=\"1\" /><path clip-path=\"url(#clip240)\" d=\"M1475.07 1550.12 Q1467.97 1550.12 1465.24 1551.75 Q1462.5 1553.37 1462.5 1557.29 Q1462.5 1560.4 1464.54 1562.25 Q1466.61 1564.07 1470.14 1564.07 Q1475.01 1564.07 1477.94 1560.63 Q1480.9 1557.16 1480.9 1551.43 L1480.9 1550.12 L1475.07 1550.12 M1486.75 1547.71 L1486.75 1568.04 L1480.9 1568.04 L1480.9 1562.63 Q1478.89 1565.88 1475.9 1567.44 Q1472.91 1568.97 1468.58 1568.97 Q1463.1 1568.97 1459.86 1565.91 Q1456.64 1562.82 1456.64 1557.67 Q1456.64 1551.65 1460.65 1548.6 Q1464.7 1545.54 1472.69 1545.54 L1480.9 1545.54 L1480.9 1544.97 Q1480.9 1540.93 1478.22 1538.73 Q1475.58 1536.5 1470.78 1536.5 Q1467.72 1536.5 1464.82 1537.23 Q1461.93 1537.97 1459.25 1539.43 L1459.25 1534.02 Q1462.47 1532.78 1465.49 1532.17 Q1468.52 1531.54 1471.38 1531.54 Q1479.11 1531.54 1482.93 1535.55 Q1486.75 1539.56 1486.75 1547.71 Z\" fill=\"#000000\" fill-rule=\"nonzero\" fill-opacity=\"1\" /><path clip-path=\"url(#clip240)\" d=\"M1504.61 1522.27 L1504.61 1532.4 L1516.67 1532.4 L1516.67 1536.95 L1504.61 1536.95 L1504.61 1556.3 Q1504.61 1560.66 1505.79 1561.9 Q1507 1563.14 1510.66 1563.14 L1516.67 1563.14 L1516.67 1568.04 L1510.66 1568.04 Q1503.88 1568.04 1501.3 1565.53 Q1498.72 1562.98 1498.72 1556.3 L1498.72 1536.95 L1494.42 1536.95 L1494.42 1532.4 L1498.72 1532.4 L1498.72 1522.27 L1504.61 1522.27 Z\" fill=\"#000000\" fill-rule=\"nonzero\" fill-opacity=\"1\" /><path clip-path=\"url(#clip240)\" d=\"M1524.37 1532.4 L1530.23 1532.4 L1530.23 1568.04 L1524.37 1568.04 L1524.37 1532.4 M1524.37 1518.52 L1530.23 1518.52 L1530.23 1525.93 L1524.37 1525.93 L1524.37 1518.52 Z\" fill=\"#000000\" fill-rule=\"nonzero\" fill-opacity=\"1\" /><path clip-path=\"url(#clip240)\" d=\"M1556.3 1536.5 Q1551.59 1536.5 1548.85 1540.19 Q1546.11 1543.85 1546.11 1550.25 Q1546.11 1556.65 1548.82 1560.34 Q1551.56 1564 1556.3 1564 Q1560.98 1564 1563.71 1560.31 Q1566.45 1556.62 1566.45 1550.25 Q1566.45 1543.92 1563.71 1540.23 Q1560.98 1536.5 1556.3 1536.5 M1556.3 1531.54 Q1563.94 1531.54 1568.3 1536.5 Q1572.66 1541.47 1572.66 1550.25 Q1572.66 1559 1568.3 1564 Q1563.94 1568.97 1556.3 1568.97 Q1548.63 1568.97 1544.27 1564 Q1539.94 1559 1539.94 1550.25 Q1539.94 1541.47 1544.27 1536.5 Q1548.63 1531.54 1556.3 1531.54 Z\" fill=\"#000000\" fill-rule=\"nonzero\" fill-opacity=\"1\" /><path clip-path=\"url(#clip240)\" d=\"M1612 1546.53 L1612 1568.04 L1606.14 1568.04 L1606.14 1546.72 Q1606.14 1541.66 1604.17 1539.14 Q1602.2 1536.63 1598.25 1536.63 Q1593.51 1536.63 1590.77 1539.65 Q1588.03 1542.68 1588.03 1547.9 L1588.03 1568.04 L1582.14 1568.04 L1582.14 1532.4 L1588.03 1532.4 L1588.03 1537.93 Q1590.13 1534.72 1592.97 1533.13 Q1595.83 1531.54 1599.55 1531.54 Q1605.7 1531.54 1608.85 1535.36 Q1612 1539.14 1612 1546.53 Z\" fill=\"#000000\" fill-rule=\"nonzero\" fill-opacity=\"1\" /><path clip-path=\"url(#clip240)\" d=\"M1646.41 1533.45 L1646.41 1538.98 Q1643.92 1537.71 1641.25 1537.07 Q1638.58 1536.44 1635.71 1536.44 Q1631.35 1536.44 1629.15 1537.77 Q1626.99 1539.11 1626.99 1541.79 Q1626.99 1543.82 1628.55 1545 Q1630.11 1546.15 1634.82 1547.2 L1636.82 1547.64 Q1643.06 1548.98 1645.67 1551.43 Q1648.32 1553.85 1648.32 1558.21 Q1648.32 1563.17 1644.37 1566.07 Q1640.45 1568.97 1633.58 1568.97 Q1630.71 1568.97 1627.59 1568.39 Q1624.51 1567.85 1621.07 1566.74 L1621.07 1560.69 Q1624.32 1562.38 1627.47 1563.24 Q1630.62 1564.07 1633.71 1564.07 Q1637.84 1564.07 1640.07 1562.66 Q1642.3 1561.23 1642.3 1558.65 Q1642.3 1556.27 1640.68 1554.99 Q1639.08 1553.72 1633.64 1552.54 L1631.61 1552.07 Q1626.16 1550.92 1623.74 1548.56 Q1621.32 1546.18 1621.32 1542.04 Q1621.32 1537.01 1624.89 1534.27 Q1628.45 1531.54 1635.01 1531.54 Q1638.26 1531.54 1641.12 1532.01 Q1643.99 1532.49 1646.41 1533.45 Z\" fill=\"#000000\" fill-rule=\"nonzero\" fill-opacity=\"1\" /><polyline clip-path=\"url(#clip242)\" style=\"stroke:#000000; stroke-linecap:round; stroke-linejoin:round; stroke-width:2; stroke-opacity:0.1; fill:none\" points=\"276.876,936.611 2352.76,936.611 \"/>\n",
       "<polyline clip-path=\"url(#clip242)\" style=\"stroke:#000000; stroke-linecap:round; stroke-linejoin:round; stroke-width:2; stroke-opacity:0.1; fill:none\" points=\"276.876,121.57 2352.76,121.57 \"/>\n",
       "<polyline clip-path=\"url(#clip240)\" style=\"stroke:#000000; stroke-linecap:round; stroke-linejoin:round; stroke-width:4; stroke-opacity:1; fill:none\" points=\"276.876,1423.18 276.876,47.2441 \"/>\n",
       "<polyline clip-path=\"url(#clip240)\" style=\"stroke:#000000; stroke-linecap:round; stroke-linejoin:round; stroke-width:4; stroke-opacity:1; fill:none\" points=\"276.876,936.611 295.773,936.611 \"/>\n",
       "<polyline clip-path=\"url(#clip240)\" style=\"stroke:#000000; stroke-linecap:round; stroke-linejoin:round; stroke-width:4; stroke-opacity:1; fill:none\" points=\"276.876,121.57 295.773,121.57 \"/>\n",
       "<path clip-path=\"url(#clip240)\" d=\"M114.931 956.403 L122.57 956.403 L122.57 930.038 L114.26 931.704 L114.26 927.445 L122.524 925.778 L127.2 925.778 L127.2 956.403 L134.839 956.403 L134.839 960.338 L114.931 960.338 L114.931 956.403 Z\" fill=\"#000000\" fill-rule=\"nonzero\" fill-opacity=\"1\" /><path clip-path=\"url(#clip240)\" d=\"M154.283 928.857 Q150.672 928.857 148.843 932.422 Q147.038 935.964 147.038 943.093 Q147.038 950.2 148.843 953.764 Q150.672 957.306 154.283 957.306 Q157.917 957.306 159.723 953.764 Q161.552 950.2 161.552 943.093 Q161.552 935.964 159.723 932.422 Q157.917 928.857 154.283 928.857 M154.283 925.153 Q160.093 925.153 163.149 929.76 Q166.227 934.343 166.227 943.093 Q166.227 951.82 163.149 956.426 Q160.093 961.01 154.283 961.01 Q148.473 961.01 145.394 956.426 Q142.339 951.82 142.339 943.093 Q142.339 934.343 145.394 929.76 Q148.473 925.153 154.283 925.153 Z\" fill=\"#000000\" fill-rule=\"nonzero\" fill-opacity=\"1\" /><path clip-path=\"url(#clip240)\" d=\"M166.227 919.255 L190.339 919.255 L190.339 922.452 L166.227 922.452 L166.227 919.255 Z\" fill=\"#000000\" fill-rule=\"nonzero\" fill-opacity=\"1\" /><path clip-path=\"url(#clip240)\" d=\"M199.197 929.731 L205.404 929.731 L205.404 908.309 L198.652 909.663 L198.652 906.202 L205.366 904.848 L209.166 904.848 L209.166 929.731 L215.372 929.731 L215.372 932.928 L199.197 932.928 L199.197 929.731 Z\" fill=\"#000000\" fill-rule=\"nonzero\" fill-opacity=\"1\" /><path clip-path=\"url(#clip240)\" d=\"M231.171 907.349 Q228.237 907.349 226.751 910.246 Q225.284 913.123 225.284 918.916 Q225.284 924.69 226.751 927.587 Q228.237 930.464 231.171 930.464 Q234.124 930.464 235.591 927.587 Q237.076 924.69 237.076 918.916 Q237.076 913.123 235.591 910.246 Q234.124 907.349 231.171 907.349 M231.171 904.34 Q235.891 904.34 238.374 908.083 Q240.876 911.807 240.876 918.916 Q240.876 926.007 238.374 929.75 Q235.891 933.473 231.171 933.473 Q226.45 933.473 223.949 929.75 Q221.466 926.007 221.466 918.916 Q221.466 911.807 223.949 908.083 Q226.45 904.34 231.171 904.34 Z\" fill=\"#000000\" fill-rule=\"nonzero\" fill-opacity=\"1\" /><path clip-path=\"url(#clip240)\" d=\"M170.17 141.362 L177.809 141.362 L177.809 114.997 L169.499 116.663 L169.499 112.404 L177.762 110.737 L182.438 110.737 L182.438 141.362 L190.077 141.362 L190.077 145.297 L170.17 145.297 L170.17 141.362 Z\" fill=\"#000000\" fill-rule=\"nonzero\" fill-opacity=\"1\" /><path clip-path=\"url(#clip240)\" d=\"M209.522 113.816 Q205.91 113.816 204.082 117.381 Q202.276 120.923 202.276 128.052 Q202.276 135.159 204.082 138.723 Q205.91 142.265 209.522 142.265 Q213.156 142.265 214.961 138.723 Q216.79 135.159 216.79 128.052 Q216.79 120.923 214.961 117.381 Q213.156 113.816 209.522 113.816 M209.522 110.112 Q215.332 110.112 218.387 114.719 Q221.466 119.302 221.466 128.052 Q221.466 136.779 218.387 141.385 Q215.332 145.969 209.522 145.969 Q203.711 145.969 200.633 141.385 Q197.577 136.779 197.577 128.052 Q197.577 119.302 200.633 114.719 Q203.711 110.112 209.522 110.112 Z\" fill=\"#000000\" fill-rule=\"nonzero\" fill-opacity=\"1\" /><path clip-path=\"url(#clip240)\" d=\"M231.171 92.3084 Q228.237 92.3084 226.751 95.2048 Q225.284 98.0824 225.284 103.875 Q225.284 109.649 226.751 112.546 Q228.237 115.423 231.171 115.423 Q234.124 115.423 235.591 112.546 Q237.076 109.649 237.076 103.875 Q237.076 98.0824 235.591 95.2048 Q234.124 92.3084 231.171 92.3084 M231.171 89.2992 Q235.891 89.2992 238.374 93.0419 Q240.876 96.7659 240.876 103.875 Q240.876 110.966 238.374 114.708 Q235.891 118.432 231.171 118.432 Q226.45 118.432 223.949 114.708 Q221.466 110.966 221.466 103.875 Q221.466 96.7659 223.949 93.0419 Q226.45 89.2992 231.171 89.2992 Z\" fill=\"#000000\" fill-rule=\"nonzero\" fill-opacity=\"1\" /><path clip-path=\"url(#clip240)\" d=\"M16.4842 811.457 L16.4842 781.411 L21.895 781.411 L21.895 805.028 L35.9632 805.028 L35.9632 782.398 L41.3741 782.398 L41.3741 805.028 L58.5933 805.028 L58.5933 780.838 L64.0042 780.838 L64.0042 811.457 L16.4842 811.457 Z\" fill=\"#000000\" fill-rule=\"nonzero\" fill-opacity=\"1\" /><path clip-path=\"url(#clip240)\" d=\"M33.8307 749.869 Q33.2578 750.856 33.0032 752.033 Q32.7167 753.179 32.7167 754.58 Q32.7167 759.545 35.9632 762.218 Q39.1779 764.86 45.2253 764.86 L64.0042 764.86 L64.0042 770.749 L28.3562 770.749 L28.3562 764.86 L33.8944 764.86 Q30.6479 763.014 29.0883 760.054 Q27.4968 757.094 27.4968 752.861 Q27.4968 752.256 27.5923 751.524 Q27.656 750.792 27.8151 749.901 L33.8307 749.869 Z\" fill=\"#000000\" fill-rule=\"nonzero\" fill-opacity=\"1\" /><path clip-path=\"url(#clip240)\" d=\"M33.8307 724.215 Q33.2578 725.202 33.0032 726.38 Q32.7167 727.525 32.7167 728.926 Q32.7167 733.891 35.9632 736.565 Q39.1779 739.206 45.2253 739.206 L64.0042 739.206 L64.0042 745.095 L28.3562 745.095 L28.3562 739.206 L33.8944 739.206 Q30.6479 737.36 29.0883 734.4 Q27.4968 731.44 27.4968 727.207 Q27.4968 726.602 27.5923 725.87 Q27.656 725.138 27.8151 724.247 L33.8307 724.215 Z\" fill=\"#000000\" fill-rule=\"nonzero\" fill-opacity=\"1\" /><path clip-path=\"url(#clip240)\" d=\"M32.4621 705.691 Q32.4621 710.402 36.1542 713.139 Q39.8145 715.876 46.212 715.876 Q52.6095 715.876 56.3017 713.171 Q59.9619 710.433 59.9619 705.691 Q59.9619 701.012 56.2698 698.275 Q52.5777 695.538 46.212 695.538 Q39.8781 695.538 36.186 698.275 Q32.4621 701.012 32.4621 705.691 M27.4968 705.691 Q27.4968 698.052 32.4621 693.692 Q37.4273 689.331 46.212 689.331 Q54.9649 689.331 59.9619 693.692 Q64.9272 698.052 64.9272 705.691 Q64.9272 713.362 59.9619 717.722 Q54.9649 722.051 46.212 722.051 Q37.4273 722.051 32.4621 717.722 Q27.4968 713.362 27.4968 705.691 Z\" fill=\"#000000\" fill-rule=\"nonzero\" fill-opacity=\"1\" /><path clip-path=\"url(#clip240)\" d=\"M33.8307 658.967 Q33.2578 659.953 33.0032 661.131 Q32.7167 662.277 32.7167 663.677 Q32.7167 668.643 35.9632 671.316 Q39.1779 673.958 45.2253 673.958 L64.0042 673.958 L64.0042 679.846 L28.3562 679.846 L28.3562 673.958 L33.8944 673.958 Q30.6479 672.112 29.0883 669.152 Q27.4968 666.192 27.4968 661.959 Q27.4968 661.354 27.5923 660.622 Q27.656 659.89 27.8151 658.999 L33.8307 658.967 Z\" fill=\"#000000\" fill-rule=\"nonzero\" fill-opacity=\"1\" /><polyline clip-path=\"url(#clip242)\" style=\"stroke:#009af9; stroke-linecap:round; stroke-linejoin:round; stroke-width:4; stroke-opacity:1; fill:none\" points=\"335.627,86.1857 580.424,246.411 825.221,410.028 1070.02,587.694 1314.82,776.856 1559.61,976.142 1804.41,1185.64 2049.21,1365.68 2294,1384.24 \"/>\n",
       "<path clip-path=\"url(#clip240)\" d=\"M2023.54 196.789 L2283.56 196.789 L2283.56 93.1086 L2023.54 93.1086  Z\" fill=\"#ffffff\" fill-rule=\"evenodd\" fill-opacity=\"1\"/>\n",
       "<polyline clip-path=\"url(#clip240)\" style=\"stroke:#000000; stroke-linecap:round; stroke-linejoin:round; stroke-width:4; stroke-opacity:1; fill:none\" points=\"2023.54,196.789 2283.56,196.789 2283.56,93.1086 2023.54,93.1086 2023.54,196.789 \"/>\n",
       "<polyline clip-path=\"url(#clip240)\" style=\"stroke:#009af9; stroke-linecap:round; stroke-linejoin:round; stroke-width:4; stroke-opacity:1; fill:none\" points=\"2046.61,144.949 2185,144.949 \"/>\n",
       "<path clip-path=\"url(#clip240)\" d=\"M2221.91 164.636 Q2220.1 169.266 2218.39 170.678 Q2216.68 172.09 2213.8 172.09 L2210.4 172.09 L2210.4 168.525 L2212.9 168.525 Q2214.66 168.525 2215.63 167.692 Q2216.61 166.858 2217.79 163.756 L2218.55 161.812 L2208.06 136.303 L2212.58 136.303 L2220.68 156.581 L2228.78 136.303 L2233.3 136.303 L2221.91 164.636 Z\" fill=\"#000000\" fill-rule=\"nonzero\" fill-opacity=\"1\" /><path clip-path=\"url(#clip240)\" d=\"M2240.59 158.293 L2248.23 158.293 L2248.23 131.928 L2239.92 133.595 L2239.92 129.335 L2248.18 127.669 L2252.86 127.669 L2252.86 158.293 L2260.49 158.293 L2260.49 162.229 L2240.59 162.229 L2240.59 158.293 Z\" fill=\"#000000\" fill-rule=\"nonzero\" fill-opacity=\"1\" /></svg>\n"
      ],
      "text/html": [
       "<?xml version=\"1.0\" encoding=\"utf-8\"?>\n",
       "<svg xmlns=\"http://www.w3.org/2000/svg\" xmlns:xlink=\"http://www.w3.org/1999/xlink\" width=\"600\" height=\"400\" viewBox=\"0 0 2400 1600\">\n",
       "<defs>\n",
       "  <clipPath id=\"clip290\">\n",
       "    <rect x=\"0\" y=\"0\" width=\"2400\" height=\"1600\"/>\n",
       "  </clipPath>\n",
       "</defs>\n",
       "<path clip-path=\"url(#clip290)\" d=\"M0 1600 L2400 1600 L2400 8.88178e-14 L0 8.88178e-14  Z\" fill=\"#ffffff\" fill-rule=\"evenodd\" fill-opacity=\"1\"/>\n",
       "<defs>\n",
       "  <clipPath id=\"clip291\">\n",
       "    <rect x=\"480\" y=\"0\" width=\"1681\" height=\"1600\"/>\n",
       "  </clipPath>\n",
       "</defs>\n",
       "<path clip-path=\"url(#clip290)\" d=\"M276.876 1423.18 L2352.76 1423.18 L2352.76 47.2441 L276.876 47.2441  Z\" fill=\"#ffffff\" fill-rule=\"evenodd\" fill-opacity=\"1\"/>\n",
       "<defs>\n",
       "  <clipPath id=\"clip292\">\n",
       "    <rect x=\"276\" y=\"47\" width=\"2077\" height=\"1377\"/>\n",
       "  </clipPath>\n",
       "</defs>\n",
       "<polyline clip-path=\"url(#clip292)\" style=\"stroke:#000000; stroke-linecap:round; stroke-linejoin:round; stroke-width:2; stroke-opacity:0.1; fill:none\" points=\"335.627,1423.18 335.627,47.2441 \"/>\n",
       "<polyline clip-path=\"url(#clip292)\" style=\"stroke:#000000; stroke-linecap:round; stroke-linejoin:round; stroke-width:2; stroke-opacity:0.1; fill:none\" points=\"825.221,1423.18 825.221,47.2441 \"/>\n",
       "<polyline clip-path=\"url(#clip292)\" style=\"stroke:#000000; stroke-linecap:round; stroke-linejoin:round; stroke-width:2; stroke-opacity:0.1; fill:none\" points=\"1314.82,1423.18 1314.82,47.2441 \"/>\n",
       "<polyline clip-path=\"url(#clip292)\" style=\"stroke:#000000; stroke-linecap:round; stroke-linejoin:round; stroke-width:2; stroke-opacity:0.1; fill:none\" points=\"1804.41,1423.18 1804.41,47.2441 \"/>\n",
       "<polyline clip-path=\"url(#clip292)\" style=\"stroke:#000000; stroke-linecap:round; stroke-linejoin:round; stroke-width:2; stroke-opacity:0.1; fill:none\" points=\"2294,1423.18 2294,47.2441 \"/>\n",
       "<polyline clip-path=\"url(#clip290)\" style=\"stroke:#000000; stroke-linecap:round; stroke-linejoin:round; stroke-width:4; stroke-opacity:1; fill:none\" points=\"276.876,1423.18 2352.76,1423.18 \"/>\n",
       "<polyline clip-path=\"url(#clip290)\" style=\"stroke:#000000; stroke-linecap:round; stroke-linejoin:round; stroke-width:4; stroke-opacity:1; fill:none\" points=\"335.627,1423.18 335.627,1404.28 \"/>\n",
       "<polyline clip-path=\"url(#clip290)\" style=\"stroke:#000000; stroke-linecap:round; stroke-linejoin:round; stroke-width:4; stroke-opacity:1; fill:none\" points=\"825.221,1423.18 825.221,1404.28 \"/>\n",
       "<polyline clip-path=\"url(#clip290)\" style=\"stroke:#000000; stroke-linecap:round; stroke-linejoin:round; stroke-width:4; stroke-opacity:1; fill:none\" points=\"1314.82,1423.18 1314.82,1404.28 \"/>\n",
       "<polyline clip-path=\"url(#clip290)\" style=\"stroke:#000000; stroke-linecap:round; stroke-linejoin:round; stroke-width:4; stroke-opacity:1; fill:none\" points=\"1804.41,1423.18 1804.41,1404.28 \"/>\n",
       "<polyline clip-path=\"url(#clip290)\" style=\"stroke:#000000; stroke-linecap:round; stroke-linejoin:round; stroke-width:4; stroke-opacity:1; fill:none\" points=\"2294,1423.18 2294,1404.28 \"/>\n",
       "<path clip-path=\"url(#clip290)\" d=\"M335.627 1454.1 Q332.016 1454.1 330.187 1457.66 Q328.382 1461.2 328.382 1468.33 Q328.382 1475.44 330.187 1479.01 Q332.016 1482.55 335.627 1482.55 Q339.261 1482.55 341.067 1479.01 Q342.895 1475.44 342.895 1468.33 Q342.895 1461.2 341.067 1457.66 Q339.261 1454.1 335.627 1454.1 M335.627 1450.39 Q341.437 1450.39 344.493 1455 Q347.571 1459.58 347.571 1468.33 Q347.571 1477.06 344.493 1481.67 Q341.437 1486.25 335.627 1486.25 Q329.817 1486.25 326.738 1481.67 Q323.682 1477.06 323.682 1468.33 Q323.682 1459.58 326.738 1455 Q329.817 1450.39 335.627 1450.39 Z\" fill=\"#000000\" fill-rule=\"nonzero\" fill-opacity=\"1\" /><path clip-path=\"url(#clip290)\" d=\"M819.874 1481.64 L836.193 1481.64 L836.193 1485.58 L814.249 1485.58 L814.249 1481.64 Q816.911 1478.89 821.494 1474.26 Q826.101 1469.61 827.281 1468.27 Q829.527 1465.74 830.406 1464.01 Q831.309 1462.25 831.309 1460.56 Q831.309 1457.8 829.365 1456.07 Q827.443 1454.33 824.342 1454.33 Q822.143 1454.33 819.689 1455.09 Q817.258 1455.86 814.481 1457.41 L814.481 1452.69 Q817.305 1451.55 819.758 1450.97 Q822.212 1450.39 824.249 1450.39 Q829.619 1450.39 832.814 1453.08 Q836.008 1455.77 836.008 1460.26 Q836.008 1462.39 835.198 1464.31 Q834.411 1466.2 832.305 1468.8 Q831.726 1469.47 828.624 1472.69 Q825.522 1475.88 819.874 1481.64 Z\" fill=\"#000000\" fill-rule=\"nonzero\" fill-opacity=\"1\" /><path clip-path=\"url(#clip290)\" d=\"M1317.82 1455.09 L1306.02 1473.54 L1317.82 1473.54 L1317.82 1455.09 M1316.6 1451.02 L1322.48 1451.02 L1322.48 1473.54 L1327.41 1473.54 L1327.41 1477.43 L1322.48 1477.43 L1322.48 1485.58 L1317.82 1485.58 L1317.82 1477.43 L1302.22 1477.43 L1302.22 1472.92 L1316.6 1451.02 Z\" fill=\"#000000\" fill-rule=\"nonzero\" fill-opacity=\"1\" /><path clip-path=\"url(#clip290)\" d=\"M1804.82 1466.44 Q1801.67 1466.44 1799.82 1468.59 Q1797.99 1470.74 1797.99 1474.49 Q1797.99 1478.22 1799.82 1480.39 Q1801.67 1482.55 1804.82 1482.55 Q1807.96 1482.55 1809.79 1480.39 Q1811.64 1478.22 1811.64 1474.49 Q1811.64 1470.74 1809.79 1468.59 Q1807.96 1466.44 1804.82 1466.44 M1814.1 1451.78 L1814.1 1456.04 Q1812.34 1455.21 1810.53 1454.77 Q1808.75 1454.33 1806.99 1454.33 Q1802.36 1454.33 1799.91 1457.45 Q1797.48 1460.58 1797.13 1466.9 Q1798.5 1464.89 1800.56 1463.82 Q1802.62 1462.73 1805.09 1462.73 Q1810.3 1462.73 1813.31 1465.9 Q1816.34 1469.05 1816.34 1474.49 Q1816.34 1479.82 1813.19 1483.03 Q1810.05 1486.25 1804.82 1486.25 Q1798.82 1486.25 1795.65 1481.67 Q1792.48 1477.06 1792.48 1468.33 Q1792.48 1460.14 1796.37 1455.28 Q1800.26 1450.39 1806.81 1450.39 Q1808.57 1450.39 1810.35 1450.74 Q1812.15 1451.09 1814.1 1451.78 Z\" fill=\"#000000\" fill-rule=\"nonzero\" fill-opacity=\"1\" /><path clip-path=\"url(#clip290)\" d=\"M2294 1469.17 Q2290.67 1469.17 2288.75 1470.95 Q2286.85 1472.73 2286.85 1475.86 Q2286.85 1478.98 2288.75 1480.77 Q2290.67 1482.55 2294 1482.55 Q2297.34 1482.55 2299.26 1480.77 Q2301.18 1478.96 2301.18 1475.86 Q2301.18 1472.73 2299.26 1470.95 Q2297.36 1469.17 2294 1469.17 M2289.33 1467.18 Q2286.32 1466.44 2284.63 1464.38 Q2282.96 1462.32 2282.96 1459.35 Q2282.96 1455.21 2285.9 1452.8 Q2288.87 1450.39 2294 1450.39 Q2299.17 1450.39 2302.11 1452.8 Q2305.05 1455.21 2305.05 1459.35 Q2305.05 1462.32 2303.36 1464.38 Q2301.69 1466.44 2298.7 1467.18 Q2302.08 1467.96 2303.96 1470.26 Q2305.86 1472.55 2305.86 1475.86 Q2305.86 1480.88 2302.78 1483.57 Q2299.72 1486.25 2294 1486.25 Q2288.29 1486.25 2285.21 1483.57 Q2282.15 1480.88 2282.15 1475.86 Q2282.15 1472.55 2284.05 1470.26 Q2285.95 1467.96 2289.33 1467.18 M2287.62 1459.79 Q2287.62 1462.48 2289.28 1463.98 Q2290.97 1465.49 2294 1465.49 Q2297.01 1465.49 2298.7 1463.98 Q2300.42 1462.48 2300.42 1459.79 Q2300.42 1457.11 2298.7 1455.6 Q2297.01 1454.1 2294 1454.1 Q2290.97 1454.1 2289.28 1455.6 Q2287.62 1457.11 2287.62 1459.79 Z\" fill=\"#000000\" fill-rule=\"nonzero\" fill-opacity=\"1\" /><path clip-path=\"url(#clip290)\" d=\"M981.316 1520.52 L989.974 1520.52 L1011.04 1560.28 L1011.04 1520.52 L1017.28 1520.52 L1017.28 1568.04 L1008.63 1568.04 L987.555 1528.29 L987.555 1568.04 L981.316 1568.04 L981.316 1520.52 Z\" fill=\"#000000\" fill-rule=\"nonzero\" fill-opacity=\"1\" /><path clip-path=\"url(#clip290)\" d=\"M1029.22 1553.98 L1029.22 1532.4 L1035.07 1532.4 L1035.07 1553.75 Q1035.07 1558.81 1037.05 1561.36 Q1039.02 1563.87 1042.97 1563.87 Q1047.71 1563.87 1050.45 1560.85 Q1053.22 1557.83 1053.22 1552.61 L1053.22 1532.4 L1059.07 1532.4 L1059.07 1568.04 L1053.22 1568.04 L1053.22 1562.57 Q1051.08 1565.82 1048.25 1567.41 Q1045.45 1568.97 1041.73 1568.97 Q1035.58 1568.97 1032.4 1565.15 Q1029.22 1561.33 1029.22 1553.98 M1043.95 1531.54 L1043.95 1531.54 Z\" fill=\"#000000\" fill-rule=\"nonzero\" fill-opacity=\"1\" /><path clip-path=\"url(#clip290)\" d=\"M1098.89 1539.24 Q1101.09 1535.29 1104.14 1533.41 Q1107.2 1531.54 1111.34 1531.54 Q1116.91 1531.54 1119.93 1535.45 Q1122.95 1539.33 1122.95 1546.53 L1122.95 1568.04 L1117.07 1568.04 L1117.07 1546.72 Q1117.07 1541.59 1115.25 1539.11 Q1113.44 1536.63 1109.71 1536.63 Q1105.16 1536.63 1102.52 1539.65 Q1099.88 1542.68 1099.88 1547.9 L1099.88 1568.04 L1093.99 1568.04 L1093.99 1546.72 Q1093.99 1541.56 1092.18 1539.11 Q1090.36 1536.63 1086.57 1536.63 Q1082.09 1536.63 1079.44 1539.68 Q1076.8 1542.71 1076.8 1547.9 L1076.8 1568.04 L1070.91 1568.04 L1070.91 1532.4 L1076.8 1532.4 L1076.8 1537.93 Q1078.81 1534.66 1081.61 1533.1 Q1084.41 1531.54 1088.26 1531.54 Q1092.14 1531.54 1094.85 1533.51 Q1097.59 1535.48 1098.89 1539.24 Z\" fill=\"#000000\" fill-rule=\"nonzero\" fill-opacity=\"1\" /><path clip-path=\"url(#clip290)\" d=\"M1160.22 1550.25 Q1160.22 1543.79 1157.55 1540.13 Q1154.91 1536.44 1150.26 1536.44 Q1145.62 1536.44 1142.94 1540.13 Q1140.3 1543.79 1140.3 1550.25 Q1140.3 1556.71 1142.94 1560.4 Q1145.62 1564.07 1150.26 1564.07 Q1154.91 1564.07 1157.55 1560.4 Q1160.22 1556.71 1160.22 1550.25 M1140.3 1537.81 Q1142.15 1534.62 1144.95 1533.1 Q1147.78 1531.54 1151.69 1531.54 Q1158.19 1531.54 1162.23 1536.69 Q1166.3 1541.85 1166.3 1550.25 Q1166.3 1558.65 1162.23 1563.81 Q1158.19 1568.97 1151.69 1568.97 Q1147.78 1568.97 1144.95 1567.44 Q1142.15 1565.88 1140.3 1562.7 L1140.3 1568.04 L1134.41 1568.04 L1134.41 1518.52 L1140.3 1518.52 L1140.3 1537.81 Z\" fill=\"#000000\" fill-rule=\"nonzero\" fill-opacity=\"1\" /><path clip-path=\"url(#clip290)\" d=\"M1206.5 1548.76 L1206.5 1551.62 L1179.58 1551.62 Q1179.96 1557.67 1183.2 1560.85 Q1186.48 1564 1192.31 1564 Q1195.68 1564 1198.83 1563.17 Q1202.02 1562.35 1205.13 1560.69 L1205.13 1566.23 Q1201.98 1567.57 1198.67 1568.27 Q1195.36 1568.97 1191.96 1568.97 Q1183.43 1568.97 1178.43 1564 Q1173.47 1559.04 1173.47 1550.57 Q1173.47 1541.82 1178.18 1536.69 Q1182.92 1531.54 1190.94 1531.54 Q1198.13 1531.54 1202.3 1536.18 Q1206.5 1540.8 1206.5 1548.76 M1200.65 1547.04 Q1200.58 1542.23 1197.94 1539.37 Q1195.33 1536.5 1191 1536.5 Q1186.1 1536.5 1183.14 1539.27 Q1180.21 1542.04 1179.77 1547.07 L1200.65 1547.04 Z\" fill=\"#000000\" fill-rule=\"nonzero\" fill-opacity=\"1\" /><path clip-path=\"url(#clip290)\" d=\"M1236.77 1537.87 Q1235.79 1537.3 1234.61 1537.04 Q1233.46 1536.76 1232.06 1536.76 Q1227.1 1536.76 1224.42 1540 Q1221.78 1543.22 1221.78 1549.27 L1221.78 1568.04 L1215.89 1568.04 L1215.89 1532.4 L1221.78 1532.4 L1221.78 1537.93 Q1223.63 1534.69 1226.59 1533.13 Q1229.55 1531.54 1233.78 1531.54 Q1234.39 1531.54 1235.12 1531.63 Q1235.85 1531.7 1236.74 1531.85 L1236.77 1537.87 Z\" fill=\"#000000\" fill-rule=\"nonzero\" fill-opacity=\"1\" /><path clip-path=\"url(#clip290)\" d=\"M1277.45 1536.5 Q1272.74 1536.5 1270 1540.19 Q1267.26 1543.85 1267.26 1550.25 Q1267.26 1556.65 1269.97 1560.34 Q1272.71 1564 1277.45 1564 Q1282.13 1564 1284.87 1560.31 Q1287.6 1556.62 1287.6 1550.25 Q1287.6 1543.92 1284.87 1540.23 Q1282.13 1536.5 1277.45 1536.5 M1277.45 1531.54 Q1285.09 1531.54 1289.45 1536.5 Q1293.81 1541.47 1293.81 1550.25 Q1293.81 1559 1289.45 1564 Q1285.09 1568.97 1277.45 1568.97 Q1269.78 1568.97 1265.42 1564 Q1261.09 1559 1261.09 1550.25 Q1261.09 1541.47 1265.42 1536.5 Q1269.78 1531.54 1277.45 1531.54 Z\" fill=\"#000000\" fill-rule=\"nonzero\" fill-opacity=\"1\" /><path clip-path=\"url(#clip290)\" d=\"M1321.56 1518.52 L1321.56 1523.39 L1315.96 1523.39 Q1312.81 1523.39 1311.57 1524.66 Q1310.36 1525.93 1310.36 1529.24 L1310.36 1532.4 L1320 1532.4 L1320 1536.95 L1310.36 1536.95 L1310.36 1568.04 L1304.47 1568.04 L1304.47 1536.95 L1298.87 1536.95 L1298.87 1532.4 L1304.47 1532.4 L1304.47 1529.91 Q1304.47 1523.96 1307.24 1521.26 Q1310.01 1518.52 1316.03 1518.52 L1321.56 1518.52 Z\" fill=\"#000000\" fill-rule=\"nonzero\" fill-opacity=\"1\" /><path clip-path=\"url(#clip290)\" d=\"M1347.44 1520.52 L1353.87 1520.52 L1353.87 1568.04 L1347.44 1568.04 L1347.44 1520.52 Z\" fill=\"#000000\" fill-rule=\"nonzero\" fill-opacity=\"1\" /><path clip-path=\"url(#clip290)\" d=\"M1372.2 1522.27 L1372.2 1532.4 L1384.27 1532.4 L1384.27 1536.95 L1372.2 1536.95 L1372.2 1556.3 Q1372.2 1560.66 1373.38 1561.9 Q1374.59 1563.14 1378.25 1563.14 L1384.27 1563.14 L1384.27 1568.04 L1378.25 1568.04 Q1371.47 1568.04 1368.89 1565.53 Q1366.31 1562.98 1366.31 1556.3 L1366.31 1536.95 L1362.02 1536.95 L1362.02 1532.4 L1366.31 1532.4 L1366.31 1522.27 L1372.2 1522.27 Z\" fill=\"#000000\" fill-rule=\"nonzero\" fill-opacity=\"1\" /><path clip-path=\"url(#clip290)\" d=\"M1422.46 1548.76 L1422.46 1551.62 L1395.53 1551.62 Q1395.91 1557.67 1399.16 1560.85 Q1402.44 1564 1408.26 1564 Q1411.64 1564 1414.79 1563.17 Q1417.97 1562.35 1421.09 1560.69 L1421.09 1566.23 Q1417.94 1567.57 1414.63 1568.27 Q1411.32 1568.97 1407.91 1568.97 Q1399.38 1568.97 1394.39 1564 Q1389.42 1559.04 1389.42 1550.57 Q1389.42 1541.82 1394.13 1536.69 Q1398.87 1531.54 1406.9 1531.54 Q1414.09 1531.54 1418.26 1536.18 Q1422.46 1540.8 1422.46 1548.76 M1416.6 1547.04 Q1416.54 1542.23 1413.9 1539.37 Q1411.29 1536.5 1406.96 1536.5 Q1402.06 1536.5 1399.1 1539.27 Q1396.17 1542.04 1395.72 1547.07 L1416.6 1547.04 Z\" fill=\"#000000\" fill-rule=\"nonzero\" fill-opacity=\"1\" /><path clip-path=\"url(#clip290)\" d=\"M1452.73 1537.87 Q1451.74 1537.3 1450.56 1537.04 Q1449.42 1536.76 1448.02 1536.76 Q1443.05 1536.76 1440.38 1540 Q1437.74 1543.22 1437.74 1549.27 L1437.74 1568.04 L1431.85 1568.04 L1431.85 1532.4 L1437.74 1532.4 L1437.74 1537.93 Q1439.58 1534.69 1442.54 1533.13 Q1445.5 1531.54 1449.74 1531.54 Q1450.34 1531.54 1451.07 1531.63 Q1451.81 1531.7 1452.7 1531.85 L1452.73 1537.87 Z\" fill=\"#000000\" fill-rule=\"nonzero\" fill-opacity=\"1\" /><path clip-path=\"url(#clip290)\" d=\"M1475.07 1550.12 Q1467.97 1550.12 1465.24 1551.75 Q1462.5 1553.37 1462.5 1557.29 Q1462.5 1560.4 1464.54 1562.25 Q1466.61 1564.07 1470.14 1564.07 Q1475.01 1564.07 1477.94 1560.63 Q1480.9 1557.16 1480.9 1551.43 L1480.9 1550.12 L1475.07 1550.12 M1486.75 1547.71 L1486.75 1568.04 L1480.9 1568.04 L1480.9 1562.63 Q1478.89 1565.88 1475.9 1567.44 Q1472.91 1568.97 1468.58 1568.97 Q1463.1 1568.97 1459.86 1565.91 Q1456.64 1562.82 1456.64 1557.67 Q1456.64 1551.65 1460.65 1548.6 Q1464.7 1545.54 1472.69 1545.54 L1480.9 1545.54 L1480.9 1544.97 Q1480.9 1540.93 1478.22 1538.73 Q1475.58 1536.5 1470.78 1536.5 Q1467.72 1536.5 1464.82 1537.23 Q1461.93 1537.97 1459.25 1539.43 L1459.25 1534.02 Q1462.47 1532.78 1465.49 1532.17 Q1468.52 1531.54 1471.38 1531.54 Q1479.11 1531.54 1482.93 1535.55 Q1486.75 1539.56 1486.75 1547.71 Z\" fill=\"#000000\" fill-rule=\"nonzero\" fill-opacity=\"1\" /><path clip-path=\"url(#clip290)\" d=\"M1504.61 1522.27 L1504.61 1532.4 L1516.67 1532.4 L1516.67 1536.95 L1504.61 1536.95 L1504.61 1556.3 Q1504.61 1560.66 1505.79 1561.9 Q1507 1563.14 1510.66 1563.14 L1516.67 1563.14 L1516.67 1568.04 L1510.66 1568.04 Q1503.88 1568.04 1501.3 1565.53 Q1498.72 1562.98 1498.72 1556.3 L1498.72 1536.95 L1494.42 1536.95 L1494.42 1532.4 L1498.72 1532.4 L1498.72 1522.27 L1504.61 1522.27 Z\" fill=\"#000000\" fill-rule=\"nonzero\" fill-opacity=\"1\" /><path clip-path=\"url(#clip290)\" d=\"M1524.37 1532.4 L1530.23 1532.4 L1530.23 1568.04 L1524.37 1568.04 L1524.37 1532.4 M1524.37 1518.52 L1530.23 1518.52 L1530.23 1525.93 L1524.37 1525.93 L1524.37 1518.52 Z\" fill=\"#000000\" fill-rule=\"nonzero\" fill-opacity=\"1\" /><path clip-path=\"url(#clip290)\" d=\"M1556.3 1536.5 Q1551.59 1536.5 1548.85 1540.19 Q1546.11 1543.85 1546.11 1550.25 Q1546.11 1556.65 1548.82 1560.34 Q1551.56 1564 1556.3 1564 Q1560.98 1564 1563.71 1560.31 Q1566.45 1556.62 1566.45 1550.25 Q1566.45 1543.92 1563.71 1540.23 Q1560.98 1536.5 1556.3 1536.5 M1556.3 1531.54 Q1563.94 1531.54 1568.3 1536.5 Q1572.66 1541.47 1572.66 1550.25 Q1572.66 1559 1568.3 1564 Q1563.94 1568.97 1556.3 1568.97 Q1548.63 1568.97 1544.27 1564 Q1539.94 1559 1539.94 1550.25 Q1539.94 1541.47 1544.27 1536.5 Q1548.63 1531.54 1556.3 1531.54 Z\" fill=\"#000000\" fill-rule=\"nonzero\" fill-opacity=\"1\" /><path clip-path=\"url(#clip290)\" d=\"M1612 1546.53 L1612 1568.04 L1606.14 1568.04 L1606.14 1546.72 Q1606.14 1541.66 1604.17 1539.14 Q1602.2 1536.63 1598.25 1536.63 Q1593.51 1536.63 1590.77 1539.65 Q1588.03 1542.68 1588.03 1547.9 L1588.03 1568.04 L1582.14 1568.04 L1582.14 1532.4 L1588.03 1532.4 L1588.03 1537.93 Q1590.13 1534.72 1592.97 1533.13 Q1595.83 1531.54 1599.55 1531.54 Q1605.7 1531.54 1608.85 1535.36 Q1612 1539.14 1612 1546.53 Z\" fill=\"#000000\" fill-rule=\"nonzero\" fill-opacity=\"1\" /><path clip-path=\"url(#clip290)\" d=\"M1646.41 1533.45 L1646.41 1538.98 Q1643.92 1537.71 1641.25 1537.07 Q1638.58 1536.44 1635.71 1536.44 Q1631.35 1536.44 1629.15 1537.77 Q1626.99 1539.11 1626.99 1541.79 Q1626.99 1543.82 1628.55 1545 Q1630.11 1546.15 1634.82 1547.2 L1636.82 1547.64 Q1643.06 1548.98 1645.67 1551.43 Q1648.32 1553.85 1648.32 1558.21 Q1648.32 1563.17 1644.37 1566.07 Q1640.45 1568.97 1633.58 1568.97 Q1630.71 1568.97 1627.59 1568.39 Q1624.51 1567.85 1621.07 1566.74 L1621.07 1560.69 Q1624.32 1562.38 1627.47 1563.24 Q1630.62 1564.07 1633.71 1564.07 Q1637.84 1564.07 1640.07 1562.66 Q1642.3 1561.23 1642.3 1558.65 Q1642.3 1556.27 1640.68 1554.99 Q1639.08 1553.72 1633.64 1552.54 L1631.61 1552.07 Q1626.16 1550.92 1623.74 1548.56 Q1621.32 1546.18 1621.32 1542.04 Q1621.32 1537.01 1624.89 1534.27 Q1628.45 1531.54 1635.01 1531.54 Q1638.26 1531.54 1641.12 1532.01 Q1643.99 1532.49 1646.41 1533.45 Z\" fill=\"#000000\" fill-rule=\"nonzero\" fill-opacity=\"1\" /><polyline clip-path=\"url(#clip292)\" style=\"stroke:#000000; stroke-linecap:round; stroke-linejoin:round; stroke-width:2; stroke-opacity:0.1; fill:none\" points=\"276.876,936.611 2352.76,936.611 \"/>\n",
       "<polyline clip-path=\"url(#clip292)\" style=\"stroke:#000000; stroke-linecap:round; stroke-linejoin:round; stroke-width:2; stroke-opacity:0.1; fill:none\" points=\"276.876,121.57 2352.76,121.57 \"/>\n",
       "<polyline clip-path=\"url(#clip290)\" style=\"stroke:#000000; stroke-linecap:round; stroke-linejoin:round; stroke-width:4; stroke-opacity:1; fill:none\" points=\"276.876,1423.18 276.876,47.2441 \"/>\n",
       "<polyline clip-path=\"url(#clip290)\" style=\"stroke:#000000; stroke-linecap:round; stroke-linejoin:round; stroke-width:4; stroke-opacity:1; fill:none\" points=\"276.876,936.611 295.773,936.611 \"/>\n",
       "<polyline clip-path=\"url(#clip290)\" style=\"stroke:#000000; stroke-linecap:round; stroke-linejoin:round; stroke-width:4; stroke-opacity:1; fill:none\" points=\"276.876,121.57 295.773,121.57 \"/>\n",
       "<path clip-path=\"url(#clip290)\" d=\"M114.931 956.403 L122.57 956.403 L122.57 930.038 L114.26 931.704 L114.26 927.445 L122.524 925.778 L127.2 925.778 L127.2 956.403 L134.839 956.403 L134.839 960.338 L114.931 960.338 L114.931 956.403 Z\" fill=\"#000000\" fill-rule=\"nonzero\" fill-opacity=\"1\" /><path clip-path=\"url(#clip290)\" d=\"M154.283 928.857 Q150.672 928.857 148.843 932.422 Q147.038 935.964 147.038 943.093 Q147.038 950.2 148.843 953.764 Q150.672 957.306 154.283 957.306 Q157.917 957.306 159.723 953.764 Q161.552 950.2 161.552 943.093 Q161.552 935.964 159.723 932.422 Q157.917 928.857 154.283 928.857 M154.283 925.153 Q160.093 925.153 163.149 929.76 Q166.227 934.343 166.227 943.093 Q166.227 951.82 163.149 956.426 Q160.093 961.01 154.283 961.01 Q148.473 961.01 145.394 956.426 Q142.339 951.82 142.339 943.093 Q142.339 934.343 145.394 929.76 Q148.473 925.153 154.283 925.153 Z\" fill=\"#000000\" fill-rule=\"nonzero\" fill-opacity=\"1\" /><path clip-path=\"url(#clip290)\" d=\"M166.227 919.255 L190.339 919.255 L190.339 922.452 L166.227 922.452 L166.227 919.255 Z\" fill=\"#000000\" fill-rule=\"nonzero\" fill-opacity=\"1\" /><path clip-path=\"url(#clip290)\" d=\"M199.197 929.731 L205.404 929.731 L205.404 908.309 L198.652 909.663 L198.652 906.202 L205.366 904.848 L209.166 904.848 L209.166 929.731 L215.372 929.731 L215.372 932.928 L199.197 932.928 L199.197 929.731 Z\" fill=\"#000000\" fill-rule=\"nonzero\" fill-opacity=\"1\" /><path clip-path=\"url(#clip290)\" d=\"M231.171 907.349 Q228.237 907.349 226.751 910.246 Q225.284 913.123 225.284 918.916 Q225.284 924.69 226.751 927.587 Q228.237 930.464 231.171 930.464 Q234.124 930.464 235.591 927.587 Q237.076 924.69 237.076 918.916 Q237.076 913.123 235.591 910.246 Q234.124 907.349 231.171 907.349 M231.171 904.34 Q235.891 904.34 238.374 908.083 Q240.876 911.807 240.876 918.916 Q240.876 926.007 238.374 929.75 Q235.891 933.473 231.171 933.473 Q226.45 933.473 223.949 929.75 Q221.466 926.007 221.466 918.916 Q221.466 911.807 223.949 908.083 Q226.45 904.34 231.171 904.34 Z\" fill=\"#000000\" fill-rule=\"nonzero\" fill-opacity=\"1\" /><path clip-path=\"url(#clip290)\" d=\"M170.17 141.362 L177.809 141.362 L177.809 114.997 L169.499 116.663 L169.499 112.404 L177.762 110.737 L182.438 110.737 L182.438 141.362 L190.077 141.362 L190.077 145.297 L170.17 145.297 L170.17 141.362 Z\" fill=\"#000000\" fill-rule=\"nonzero\" fill-opacity=\"1\" /><path clip-path=\"url(#clip290)\" d=\"M209.522 113.816 Q205.91 113.816 204.082 117.381 Q202.276 120.923 202.276 128.052 Q202.276 135.159 204.082 138.723 Q205.91 142.265 209.522 142.265 Q213.156 142.265 214.961 138.723 Q216.79 135.159 216.79 128.052 Q216.79 120.923 214.961 117.381 Q213.156 113.816 209.522 113.816 M209.522 110.112 Q215.332 110.112 218.387 114.719 Q221.466 119.302 221.466 128.052 Q221.466 136.779 218.387 141.385 Q215.332 145.969 209.522 145.969 Q203.711 145.969 200.633 141.385 Q197.577 136.779 197.577 128.052 Q197.577 119.302 200.633 114.719 Q203.711 110.112 209.522 110.112 Z\" fill=\"#000000\" fill-rule=\"nonzero\" fill-opacity=\"1\" /><path clip-path=\"url(#clip290)\" d=\"M231.171 92.3084 Q228.237 92.3084 226.751 95.2048 Q225.284 98.0824 225.284 103.875 Q225.284 109.649 226.751 112.546 Q228.237 115.423 231.171 115.423 Q234.124 115.423 235.591 112.546 Q237.076 109.649 237.076 103.875 Q237.076 98.0824 235.591 95.2048 Q234.124 92.3084 231.171 92.3084 M231.171 89.2992 Q235.891 89.2992 238.374 93.0419 Q240.876 96.7659 240.876 103.875 Q240.876 110.966 238.374 114.708 Q235.891 118.432 231.171 118.432 Q226.45 118.432 223.949 114.708 Q221.466 110.966 221.466 103.875 Q221.466 96.7659 223.949 93.0419 Q226.45 89.2992 231.171 89.2992 Z\" fill=\"#000000\" fill-rule=\"nonzero\" fill-opacity=\"1\" /><path clip-path=\"url(#clip290)\" d=\"M16.4842 811.457 L16.4842 781.411 L21.895 781.411 L21.895 805.028 L35.9632 805.028 L35.9632 782.398 L41.3741 782.398 L41.3741 805.028 L58.5933 805.028 L58.5933 780.838 L64.0042 780.838 L64.0042 811.457 L16.4842 811.457 Z\" fill=\"#000000\" fill-rule=\"nonzero\" fill-opacity=\"1\" /><path clip-path=\"url(#clip290)\" d=\"M33.8307 749.869 Q33.2578 750.856 33.0032 752.033 Q32.7167 753.179 32.7167 754.58 Q32.7167 759.545 35.9632 762.218 Q39.1779 764.86 45.2253 764.86 L64.0042 764.86 L64.0042 770.749 L28.3562 770.749 L28.3562 764.86 L33.8944 764.86 Q30.6479 763.014 29.0883 760.054 Q27.4968 757.094 27.4968 752.861 Q27.4968 752.256 27.5923 751.524 Q27.656 750.792 27.8151 749.901 L33.8307 749.869 Z\" fill=\"#000000\" fill-rule=\"nonzero\" fill-opacity=\"1\" /><path clip-path=\"url(#clip290)\" d=\"M33.8307 724.215 Q33.2578 725.202 33.0032 726.38 Q32.7167 727.525 32.7167 728.926 Q32.7167 733.891 35.9632 736.565 Q39.1779 739.206 45.2253 739.206 L64.0042 739.206 L64.0042 745.095 L28.3562 745.095 L28.3562 739.206 L33.8944 739.206 Q30.6479 737.36 29.0883 734.4 Q27.4968 731.44 27.4968 727.207 Q27.4968 726.602 27.5923 725.87 Q27.656 725.138 27.8151 724.247 L33.8307 724.215 Z\" fill=\"#000000\" fill-rule=\"nonzero\" fill-opacity=\"1\" /><path clip-path=\"url(#clip290)\" d=\"M32.4621 705.691 Q32.4621 710.402 36.1542 713.139 Q39.8145 715.876 46.212 715.876 Q52.6095 715.876 56.3017 713.171 Q59.9619 710.433 59.9619 705.691 Q59.9619 701.012 56.2698 698.275 Q52.5777 695.538 46.212 695.538 Q39.8781 695.538 36.186 698.275 Q32.4621 701.012 32.4621 705.691 M27.4968 705.691 Q27.4968 698.052 32.4621 693.692 Q37.4273 689.331 46.212 689.331 Q54.9649 689.331 59.9619 693.692 Q64.9272 698.052 64.9272 705.691 Q64.9272 713.362 59.9619 717.722 Q54.9649 722.051 46.212 722.051 Q37.4273 722.051 32.4621 717.722 Q27.4968 713.362 27.4968 705.691 Z\" fill=\"#000000\" fill-rule=\"nonzero\" fill-opacity=\"1\" /><path clip-path=\"url(#clip290)\" d=\"M33.8307 658.967 Q33.2578 659.953 33.0032 661.131 Q32.7167 662.277 32.7167 663.677 Q32.7167 668.643 35.9632 671.316 Q39.1779 673.958 45.2253 673.958 L64.0042 673.958 L64.0042 679.846 L28.3562 679.846 L28.3562 673.958 L33.8944 673.958 Q30.6479 672.112 29.0883 669.152 Q27.4968 666.192 27.4968 661.959 Q27.4968 661.354 27.5923 660.622 Q27.656 659.89 27.8151 658.999 L33.8307 658.967 Z\" fill=\"#000000\" fill-rule=\"nonzero\" fill-opacity=\"1\" /><polyline clip-path=\"url(#clip292)\" style=\"stroke:#009af9; stroke-linecap:round; stroke-linejoin:round; stroke-width:4; stroke-opacity:1; fill:none\" points=\"335.627,86.1857 580.424,246.411 825.221,410.028 1070.02,587.694 1314.82,776.856 1559.61,976.142 1804.41,1185.64 2049.21,1365.68 2294,1384.24 \"/>\n",
       "<path clip-path=\"url(#clip290)\" d=\"M2023.54 196.789 L2283.56 196.789 L2283.56 93.1086 L2023.54 93.1086  Z\" fill=\"#ffffff\" fill-rule=\"evenodd\" fill-opacity=\"1\"/>\n",
       "<polyline clip-path=\"url(#clip290)\" style=\"stroke:#000000; stroke-linecap:round; stroke-linejoin:round; stroke-width:4; stroke-opacity:1; fill:none\" points=\"2023.54,196.789 2283.56,196.789 2283.56,93.1086 2023.54,93.1086 2023.54,196.789 \"/>\n",
       "<polyline clip-path=\"url(#clip290)\" style=\"stroke:#009af9; stroke-linecap:round; stroke-linejoin:round; stroke-width:4; stroke-opacity:1; fill:none\" points=\"2046.61,144.949 2185,144.949 \"/>\n",
       "<path clip-path=\"url(#clip290)\" d=\"M2221.91 164.636 Q2220.1 169.266 2218.39 170.678 Q2216.68 172.09 2213.8 172.09 L2210.4 172.09 L2210.4 168.525 L2212.9 168.525 Q2214.66 168.525 2215.63 167.692 Q2216.61 166.858 2217.79 163.756 L2218.55 161.812 L2208.06 136.303 L2212.58 136.303 L2220.68 156.581 L2228.78 136.303 L2233.3 136.303 L2221.91 164.636 Z\" fill=\"#000000\" fill-rule=\"nonzero\" fill-opacity=\"1\" /><path clip-path=\"url(#clip290)\" d=\"M2240.59 158.293 L2248.23 158.293 L2248.23 131.928 L2239.92 133.595 L2239.92 129.335 L2248.18 127.669 L2252.86 127.669 L2252.86 158.293 L2260.49 158.293 L2260.49 162.229 L2240.59 162.229 L2240.59 158.293 Z\" fill=\"#000000\" fill-rule=\"nonzero\" fill-opacity=\"1\" /></svg>\n"
      ]
     },
     "execution_count": 79,
     "metadata": {},
     "output_type": "execute_result"
    }
   ],
   "source": [
    "using LinearAlgebra, Plots\n",
    "\n",
    "u0 = 1.0\n",
    "a = 0\n",
    "b = 1.0\n",
    "f(t, u) = u\n",
    "N = 30\n",
    "K = 8 # Number of Iterations\n",
    "m = 2\n",
    "err=zeros(K+1)\n",
    "u, tval= twoleDC(f, a, b, N, u0, Gs, K) # Approximate Solution\n",
    "U, t = Ref(f, a, b, u0, N) # Reference Solution\n",
    "for k=1:K+1\n",
    "    err[k]= norm(U[1, 1:m:end, 2] .- u[1, 1:m:end, k], Inf) .+10^(-16)\n",
    "end\n",
    "plot(0:K, err, yaxis=:log, xlabel=\"Number of Iterations\", ylabel=\"Error\")"
   ]
  },
  {
   "cell_type": "code",
   "execution_count": 75,
   "id": "3cbeb244-01c9-44f5-b659-683eecd730b9",
   "metadata": {},
   "outputs": [
    {
     "data": {
      "text/plain": [
       "1×7×2 Array{Float64, 3}:\n",
       "[:, :, 1] =\n",
       " 1.0  0.0  1.0  0.0  1.0  0.0  0.0\n",
       "\n",
       "[:, :, 2] =\n",
       " 1.0  0.0  1.39198  0.0  1.91461  0.0  2.61145"
      ]
     },
     "execution_count": 75,
     "metadata": {},
     "output_type": "execute_result"
    }
   ],
   "source": [
    "u0=1.0\n",
    "K=1\n",
    "N=6\n",
    "a=0\n",
    "b=1.0\n",
    "f(t, u)=u\n",
    "u, t=twoleDC(f, a, b, N, u0, Gs, K)"
   ]
  }
 ],
 "metadata": {
  "kernelspec": {
   "display_name": "Julia 1.10.4",
   "language": "julia",
   "name": "julia-1.10"
  },
  "language_info": {
   "file_extension": ".jl",
   "mimetype": "application/julia",
   "name": "julia",
   "version": "1.10.4"
  }
 },
 "nbformat": 4,
 "nbformat_minor": 5
}
