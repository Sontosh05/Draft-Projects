{
 "cells": [
  {
   "cell_type": "code",
   "execution_count": 7,
   "id": "937cbc6e-cf69-49e5-8d10-8050743e35cb",
   "metadata": {},
   "outputs": [
    {
     "name": "stdout",
     "output_type": "stream",
     "text": [
      "Quadrature Weights: Rational{Int64}[1//8, 3//8, 3//8, 1//8]\n"
     ]
    }
   ],
   "source": [
    "using LinearAlgebra, DSP, Polynomials\n",
    "\n",
    "using LinearAlgebra, DSP, Polynomials\n",
    "function Lagrange(t, a, b)\n",
    "    N=length(t)\n",
    "    p=zeros(1, N)\n",
    "    L=zeros(N ,N)\n",
    "    cpoly=zeros(1, N)\n",
    "    intcpoly=zeros(1, N)\n",
    "    pval=zeros(N)\n",
    "    dt=b-a\n",
    "    s=(t .-a) / dt\n",
    "    d=0\n",
    "    for i in 1:N\n",
    "        p=[1]\n",
    "        for j in 1:N\n",
    "            if i !=j\n",
    "                p = conv(p, [-s[j], 1]) / (s[i] - s[j])\n",
    "            end\n",
    "        end\n",
    "        L[i,:]=p\n",
    "        cpoly=Polynomial(p)\n",
    "        intcpoly=integrate(cpoly)\n",
    "        pval[i]=  (intcpoly(1) - intcpoly(0))\n",
    "    end\n",
    "    pval_rational = map(x -> rationalize(x, tol=1e-10), pval)\n",
    "    return pval_rational\n",
    "end\n",
    "\n",
    "\n",
    "# Define the time points\n",
    "N=4\n",
    "a, b = 0.0, 1.0  # Integration interval [0, 1]\n",
    "dt=(b-a)/N # time domain [a, b]\n",
    "t = (0:N)*dt  # t_0, t_1, t_2, t_3, t_4\n",
    "    \n",
    "# Calculate quadrature weights\n",
    "weights1 = Lagrange(t[1:4], t[1], t[4])\n",
    "#weights2 = Lagrange(t[end-2:end], t[end-2], t[101])   \n",
    "println(\"Quadrature Weights: \", weights1)"
   ]
  },
  {
   "cell_type": "code",
   "execution_count": null,
   "id": "555f66b7-0344-4e00-87b4-f5fcb8c94b1a",
   "metadata": {},
   "outputs": [],
   "source": []
  }
 ],
 "metadata": {
  "kernelspec": {
   "display_name": "Julia 1.10.4",
   "language": "julia",
   "name": "julia-1.10"
  },
  "language_info": {
   "file_extension": ".jl",
   "mimetype": "application/julia",
   "name": "julia",
   "version": "1.10.4"
  }
 },
 "nbformat": 4,
 "nbformat_minor": 5
}
